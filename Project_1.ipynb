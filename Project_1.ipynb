{
  "nbformat": 4,
  "nbformat_minor": 0,
  "metadata": {
    "colab": {
      "name": "Project-1.ipynb",
      "provenance": [],
      "collapsed_sections": []
    },
    "kernelspec": {
      "name": "python3",
      "display_name": "Python 3"
    },
    "language_info": {
      "name": "python"
    }
  },
  "cells": [
    {
      "cell_type": "markdown",
      "metadata": {
        "id": "AiXVSC3Mn3PL"
      },
      "source": [
        "## **Seattle Airbnb Data Analysis Project**\n",
        "\n",
        "\n",
        "\n",
        "\n"
      ]
    },
    {
      "cell_type": "markdown",
      "metadata": {
        "id": "36fmq03Mo8R-"
      },
      "source": [
        "We have been given the Airbnb dataset of seattle, we have the data of host, and the guests. We can use this data to increase the number of guests by improving the details that the users want. "
      ]
    },
    {
      "cell_type": "markdown",
      "metadata": {
        "id": "SKbk2gIoqQz_"
      },
      "source": [
        "We have been given three datasets:\n",
        "*   Listings, including full descriptions and average review score.\n",
        "*   Reviews, including unique id for each reviewer and detailed comments.\n",
        "*   Calendar, including listing id and the price and availability      for that day.\n",
        "\n",
        "\n",
        "\n"
      ]
    },
    {
      "cell_type": "markdown",
      "metadata": {
        "id": "O_zfrMZuWwwY"
      },
      "source": [
        "Questions I will try to answer in this notebook:\n",
        "1.   What are the features that influence positively on the number of accommodates?\n",
        "2.   What features are the guests looking for, so that it can be improved in other houses as well.\n",
        "3.   What type of houses that people prefer(Entire home/private room/shared room)\n",
        "\n"
      ]
    },
    {
      "cell_type": "markdown",
      "metadata": {
        "id": "ciyW7r6-Zb0D"
      },
      "source": [
        "We will try and follow the CRISP-DM process while ecexuting the code.\n",
        "CRISP-DM is short for Cross Industry Process for Data Mining.\n",
        "It provides a structured approach and process for a project.\n",
        "CRISP-DM process includes:\n",
        "   1. Business Understanding.\n",
        "   2. Data Understanding.\n",
        "   3. Prepare Data.\n",
        "   4. Model Data.\n",
        "   5. Results.\n",
        "   6. Deploy"
      ]
    },
    {
      "cell_type": "code",
      "metadata": {
        "id": "cT5zdFEmn-Uj"
      },
      "source": [
        "#First, we will import all the necessary libraries:\n",
        "import pandas as pd\n",
        "import numpy as np\n",
        "import matplotlib.pyplot as plt\n",
        "%matplotlib inline\n",
        "import seaborn as sns"
      ],
      "execution_count": 53,
      "outputs": []
    },
    {
      "cell_type": "code",
      "metadata": {
        "id": "sDGB-RUfaqOP"
      },
      "source": [
        "#Since we have over 90 columns in the dataset, we have to set the display to be over 90:\n",
        "pd.set_option('display.max_columns', 100)\n",
        "pd.set_option('display.max_rows', 100)"
      ],
      "execution_count": 54,
      "outputs": []
    },
    {
      "cell_type": "markdown",
      "metadata": {
        "id": "sP4B_MQKbQ26"
      },
      "source": [
        "Now, we will read all the datasets we have"
      ]
    },
    {
      "cell_type": "code",
      "metadata": {
        "id": "Ly2m6TVLa6Pn"
      },
      "source": [
        "df_listings = pd.read_csv('/content/drive/MyDrive/list.csv')\n",
        "df_reviews = pd.read_csv('/content/drive/My Drive/rev.csv')\n",
        "df_cal = pd.read_csv('/content/drive/My Drive/cal.csv')"
      ],
      "execution_count": 55,
      "outputs": []
    },
    {
      "cell_type": "code",
      "metadata": {
        "colab": {
          "base_uri": "https://localhost:8080/",
          "height": 798
        },
        "id": "k9F33A6Abe1p",
        "outputId": "1e3bacb6-08d1-4cea-e024-e1a500dea705"
      },
      "source": [
        "df_listings.head()"
      ],
      "execution_count": 56,
      "outputs": [
        {
          "output_type": "execute_result",
          "data": {
            "text/html": [
              "<div>\n",
              "<style scoped>\n",
              "    .dataframe tbody tr th:only-of-type {\n",
              "        vertical-align: middle;\n",
              "    }\n",
              "\n",
              "    .dataframe tbody tr th {\n",
              "        vertical-align: top;\n",
              "    }\n",
              "\n",
              "    .dataframe thead th {\n",
              "        text-align: right;\n",
              "    }\n",
              "</style>\n",
              "<table border=\"1\" class=\"dataframe\">\n",
              "  <thead>\n",
              "    <tr style=\"text-align: right;\">\n",
              "      <th></th>\n",
              "      <th>id</th>\n",
              "      <th>listing_url</th>\n",
              "      <th>scrape_id</th>\n",
              "      <th>last_scraped</th>\n",
              "      <th>name</th>\n",
              "      <th>summary</th>\n",
              "      <th>space</th>\n",
              "      <th>description</th>\n",
              "      <th>experiences_offered</th>\n",
              "      <th>neighborhood_overview</th>\n",
              "      <th>notes</th>\n",
              "      <th>transit</th>\n",
              "      <th>thumbnail_url</th>\n",
              "      <th>medium_url</th>\n",
              "      <th>picture_url</th>\n",
              "      <th>xl_picture_url</th>\n",
              "      <th>host_id</th>\n",
              "      <th>host_url</th>\n",
              "      <th>host_name</th>\n",
              "      <th>host_since</th>\n",
              "      <th>host_location</th>\n",
              "      <th>host_about</th>\n",
              "      <th>host_response_time</th>\n",
              "      <th>host_response_rate</th>\n",
              "      <th>host_acceptance_rate</th>\n",
              "      <th>host_is_superhost</th>\n",
              "      <th>host_thumbnail_url</th>\n",
              "      <th>host_picture_url</th>\n",
              "      <th>host_neighbourhood</th>\n",
              "      <th>host_listings_count</th>\n",
              "      <th>host_total_listings_count</th>\n",
              "      <th>host_verifications</th>\n",
              "      <th>host_has_profile_pic</th>\n",
              "      <th>host_identity_verified</th>\n",
              "      <th>street</th>\n",
              "      <th>neighbourhood</th>\n",
              "      <th>neighbourhood_cleansed</th>\n",
              "      <th>neighbourhood_group_cleansed</th>\n",
              "      <th>city</th>\n",
              "      <th>state</th>\n",
              "      <th>zipcode</th>\n",
              "      <th>market</th>\n",
              "      <th>smart_location</th>\n",
              "      <th>country_code</th>\n",
              "      <th>country</th>\n",
              "      <th>latitude</th>\n",
              "      <th>longitude</th>\n",
              "      <th>is_location_exact</th>\n",
              "      <th>property_type</th>\n",
              "      <th>room_type</th>\n",
              "      <th>accommodates</th>\n",
              "      <th>bathrooms</th>\n",
              "      <th>bedrooms</th>\n",
              "      <th>beds</th>\n",
              "      <th>bed_type</th>\n",
              "      <th>amenities</th>\n",
              "      <th>square_feet</th>\n",
              "      <th>price</th>\n",
              "      <th>weekly_price</th>\n",
              "      <th>monthly_price</th>\n",
              "      <th>security_deposit</th>\n",
              "      <th>cleaning_fee</th>\n",
              "      <th>guests_included</th>\n",
              "      <th>extra_people</th>\n",
              "      <th>minimum_nights</th>\n",
              "      <th>maximum_nights</th>\n",
              "      <th>calendar_updated</th>\n",
              "      <th>has_availability</th>\n",
              "      <th>availability_30</th>\n",
              "      <th>availability_60</th>\n",
              "      <th>availability_90</th>\n",
              "      <th>availability_365</th>\n",
              "      <th>calendar_last_scraped</th>\n",
              "      <th>number_of_reviews</th>\n",
              "      <th>first_review</th>\n",
              "      <th>last_review</th>\n",
              "      <th>review_scores_rating</th>\n",
              "      <th>review_scores_accuracy</th>\n",
              "      <th>review_scores_cleanliness</th>\n",
              "      <th>review_scores_checkin</th>\n",
              "      <th>review_scores_communication</th>\n",
              "      <th>review_scores_location</th>\n",
              "      <th>review_scores_value</th>\n",
              "      <th>requires_license</th>\n",
              "      <th>license</th>\n",
              "      <th>jurisdiction_names</th>\n",
              "      <th>instant_bookable</th>\n",
              "      <th>cancellation_policy</th>\n",
              "      <th>require_guest_profile_picture</th>\n",
              "      <th>require_guest_phone_verification</th>\n",
              "      <th>calculated_host_listings_count</th>\n",
              "      <th>reviews_per_month</th>\n",
              "    </tr>\n",
              "  </thead>\n",
              "  <tbody>\n",
              "    <tr>\n",
              "      <th>0</th>\n",
              "      <td>241032</td>\n",
              "      <td>https://www.airbnb.com/rooms/241032</td>\n",
              "      <td>20160104002432</td>\n",
              "      <td>2016-01-04</td>\n",
              "      <td>Stylish Queen Anne Apartment</td>\n",
              "      <td>NaN</td>\n",
              "      <td>Make your self at home in this charming one-be...</td>\n",
              "      <td>Make your self at home in this charming one-be...</td>\n",
              "      <td>none</td>\n",
              "      <td>NaN</td>\n",
              "      <td>NaN</td>\n",
              "      <td>NaN</td>\n",
              "      <td>NaN</td>\n",
              "      <td>NaN</td>\n",
              "      <td>https://a1.muscache.com/ac/pictures/67560560/c...</td>\n",
              "      <td>NaN</td>\n",
              "      <td>956883</td>\n",
              "      <td>https://www.airbnb.com/users/show/956883</td>\n",
              "      <td>Maija</td>\n",
              "      <td>2011-08-11</td>\n",
              "      <td>Seattle, Washington, United States</td>\n",
              "      <td>I am an artist, interior designer, and run a s...</td>\n",
              "      <td>within a few hours</td>\n",
              "      <td>96%</td>\n",
              "      <td>100%</td>\n",
              "      <td>f</td>\n",
              "      <td>https://a0.muscache.com/ac/users/956883/profil...</td>\n",
              "      <td>https://a0.muscache.com/ac/users/956883/profil...</td>\n",
              "      <td>Queen Anne</td>\n",
              "      <td>3.0</td>\n",
              "      <td>3.0</td>\n",
              "      <td>['email', 'phone', 'reviews', 'kba']</td>\n",
              "      <td>t</td>\n",
              "      <td>t</td>\n",
              "      <td>Gilman Dr W, Seattle, WA 98119, United States</td>\n",
              "      <td>Queen Anne</td>\n",
              "      <td>West Queen Anne</td>\n",
              "      <td>Queen Anne</td>\n",
              "      <td>Seattle</td>\n",
              "      <td>WA</td>\n",
              "      <td>98119</td>\n",
              "      <td>Seattle</td>\n",
              "      <td>Seattle, WA</td>\n",
              "      <td>US</td>\n",
              "      <td>United States</td>\n",
              "      <td>47.636289</td>\n",
              "      <td>-122.371025</td>\n",
              "      <td>t</td>\n",
              "      <td>Apartment</td>\n",
              "      <td>Entire home/apt</td>\n",
              "      <td>4</td>\n",
              "      <td>1.0</td>\n",
              "      <td>1.0</td>\n",
              "      <td>1.0</td>\n",
              "      <td>Real Bed</td>\n",
              "      <td>{TV,\"Cable TV\",Internet,\"Wireless Internet\",\"A...</td>\n",
              "      <td>NaN</td>\n",
              "      <td>$85.00</td>\n",
              "      <td>NaN</td>\n",
              "      <td>NaN</td>\n",
              "      <td>NaN</td>\n",
              "      <td>NaN</td>\n",
              "      <td>2</td>\n",
              "      <td>$5.00</td>\n",
              "      <td>1</td>\n",
              "      <td>365</td>\n",
              "      <td>4 weeks ago</td>\n",
              "      <td>t</td>\n",
              "      <td>14</td>\n",
              "      <td>41</td>\n",
              "      <td>71</td>\n",
              "      <td>346</td>\n",
              "      <td>2016-01-04</td>\n",
              "      <td>207</td>\n",
              "      <td>2011-11-01</td>\n",
              "      <td>2016-01-02</td>\n",
              "      <td>95.0</td>\n",
              "      <td>10.0</td>\n",
              "      <td>10.0</td>\n",
              "      <td>10.0</td>\n",
              "      <td>10.0</td>\n",
              "      <td>9.0</td>\n",
              "      <td>10.0</td>\n",
              "      <td>f</td>\n",
              "      <td>NaN</td>\n",
              "      <td>WASHINGTON</td>\n",
              "      <td>f</td>\n",
              "      <td>moderate</td>\n",
              "      <td>f</td>\n",
              "      <td>f</td>\n",
              "      <td>2</td>\n",
              "      <td>4.07</td>\n",
              "    </tr>\n",
              "    <tr>\n",
              "      <th>1</th>\n",
              "      <td>953595</td>\n",
              "      <td>https://www.airbnb.com/rooms/953595</td>\n",
              "      <td>20160104002432</td>\n",
              "      <td>2016-01-04</td>\n",
              "      <td>Bright &amp; Airy Queen Anne Apartment</td>\n",
              "      <td>Chemically sensitive? We've removed the irrita...</td>\n",
              "      <td>Beautiful, hypoallergenic apartment in an extr...</td>\n",
              "      <td>Chemically sensitive? We've removed the irrita...</td>\n",
              "      <td>none</td>\n",
              "      <td>Queen Anne is a wonderful, truly functional vi...</td>\n",
              "      <td>What's up with the free pillows?  Our home was...</td>\n",
              "      <td>Convenient bus stops are just down the block, ...</td>\n",
              "      <td>https://a0.muscache.com/ac/pictures/14409893/f...</td>\n",
              "      <td>https://a0.muscache.com/im/pictures/14409893/f...</td>\n",
              "      <td>https://a0.muscache.com/ac/pictures/14409893/f...</td>\n",
              "      <td>https://a0.muscache.com/ac/pictures/14409893/f...</td>\n",
              "      <td>5177328</td>\n",
              "      <td>https://www.airbnb.com/users/show/5177328</td>\n",
              "      <td>Andrea</td>\n",
              "      <td>2013-02-21</td>\n",
              "      <td>Seattle, Washington, United States</td>\n",
              "      <td>Living east coast/left coast/overseas.  Time i...</td>\n",
              "      <td>within an hour</td>\n",
              "      <td>98%</td>\n",
              "      <td>100%</td>\n",
              "      <td>t</td>\n",
              "      <td>https://a0.muscache.com/ac/users/5177328/profi...</td>\n",
              "      <td>https://a0.muscache.com/ac/users/5177328/profi...</td>\n",
              "      <td>Queen Anne</td>\n",
              "      <td>6.0</td>\n",
              "      <td>6.0</td>\n",
              "      <td>['email', 'phone', 'facebook', 'linkedin', 're...</td>\n",
              "      <td>t</td>\n",
              "      <td>t</td>\n",
              "      <td>7th Avenue West, Seattle, WA 98119, United States</td>\n",
              "      <td>Queen Anne</td>\n",
              "      <td>West Queen Anne</td>\n",
              "      <td>Queen Anne</td>\n",
              "      <td>Seattle</td>\n",
              "      <td>WA</td>\n",
              "      <td>98119</td>\n",
              "      <td>Seattle</td>\n",
              "      <td>Seattle, WA</td>\n",
              "      <td>US</td>\n",
              "      <td>United States</td>\n",
              "      <td>47.639123</td>\n",
              "      <td>-122.365666</td>\n",
              "      <td>t</td>\n",
              "      <td>Apartment</td>\n",
              "      <td>Entire home/apt</td>\n",
              "      <td>4</td>\n",
              "      <td>1.0</td>\n",
              "      <td>1.0</td>\n",
              "      <td>1.0</td>\n",
              "      <td>Real Bed</td>\n",
              "      <td>{TV,Internet,\"Wireless Internet\",Kitchen,\"Free...</td>\n",
              "      <td>NaN</td>\n",
              "      <td>$150.00</td>\n",
              "      <td>$1,000.00</td>\n",
              "      <td>$3,000.00</td>\n",
              "      <td>$100.00</td>\n",
              "      <td>$40.00</td>\n",
              "      <td>1</td>\n",
              "      <td>$0.00</td>\n",
              "      <td>2</td>\n",
              "      <td>90</td>\n",
              "      <td>today</td>\n",
              "      <td>t</td>\n",
              "      <td>13</td>\n",
              "      <td>13</td>\n",
              "      <td>16</td>\n",
              "      <td>291</td>\n",
              "      <td>2016-01-04</td>\n",
              "      <td>43</td>\n",
              "      <td>2013-08-19</td>\n",
              "      <td>2015-12-29</td>\n",
              "      <td>96.0</td>\n",
              "      <td>10.0</td>\n",
              "      <td>10.0</td>\n",
              "      <td>10.0</td>\n",
              "      <td>10.0</td>\n",
              "      <td>10.0</td>\n",
              "      <td>10.0</td>\n",
              "      <td>f</td>\n",
              "      <td>NaN</td>\n",
              "      <td>WASHINGTON</td>\n",
              "      <td>f</td>\n",
              "      <td>strict</td>\n",
              "      <td>t</td>\n",
              "      <td>t</td>\n",
              "      <td>6</td>\n",
              "      <td>1.48</td>\n",
              "    </tr>\n",
              "    <tr>\n",
              "      <th>2</th>\n",
              "      <td>3308979</td>\n",
              "      <td>https://www.airbnb.com/rooms/3308979</td>\n",
              "      <td>20160104002432</td>\n",
              "      <td>2016-01-04</td>\n",
              "      <td>New Modern House-Amazing water view</td>\n",
              "      <td>New modern house built in 2013.  Spectacular s...</td>\n",
              "      <td>Our house is modern, light and fresh with a wa...</td>\n",
              "      <td>New modern house built in 2013.  Spectacular s...</td>\n",
              "      <td>none</td>\n",
              "      <td>Upper Queen Anne is a charming neighborhood fu...</td>\n",
              "      <td>Our house is located just 5 short blocks to To...</td>\n",
              "      <td>A bus stop is just 2 blocks away.   Easy bus a...</td>\n",
              "      <td>NaN</td>\n",
              "      <td>NaN</td>\n",
              "      <td>https://a2.muscache.com/ac/pictures/b4324e0f-a...</td>\n",
              "      <td>NaN</td>\n",
              "      <td>16708587</td>\n",
              "      <td>https://www.airbnb.com/users/show/16708587</td>\n",
              "      <td>Jill</td>\n",
              "      <td>2014-06-12</td>\n",
              "      <td>Seattle, Washington, United States</td>\n",
              "      <td>i love living in Seattle.  i grew up in the mi...</td>\n",
              "      <td>within a few hours</td>\n",
              "      <td>67%</td>\n",
              "      <td>100%</td>\n",
              "      <td>f</td>\n",
              "      <td>https://a1.muscache.com/ac/users/16708587/prof...</td>\n",
              "      <td>https://a1.muscache.com/ac/users/16708587/prof...</td>\n",
              "      <td>Queen Anne</td>\n",
              "      <td>2.0</td>\n",
              "      <td>2.0</td>\n",
              "      <td>['email', 'phone', 'google', 'reviews', 'jumio']</td>\n",
              "      <td>t</td>\n",
              "      <td>t</td>\n",
              "      <td>West Lee Street, Seattle, WA 98119, United States</td>\n",
              "      <td>Queen Anne</td>\n",
              "      <td>West Queen Anne</td>\n",
              "      <td>Queen Anne</td>\n",
              "      <td>Seattle</td>\n",
              "      <td>WA</td>\n",
              "      <td>98119</td>\n",
              "      <td>Seattle</td>\n",
              "      <td>Seattle, WA</td>\n",
              "      <td>US</td>\n",
              "      <td>United States</td>\n",
              "      <td>47.629724</td>\n",
              "      <td>-122.369483</td>\n",
              "      <td>t</td>\n",
              "      <td>House</td>\n",
              "      <td>Entire home/apt</td>\n",
              "      <td>11</td>\n",
              "      <td>4.5</td>\n",
              "      <td>5.0</td>\n",
              "      <td>7.0</td>\n",
              "      <td>Real Bed</td>\n",
              "      <td>{TV,\"Cable TV\",Internet,\"Wireless Internet\",\"A...</td>\n",
              "      <td>NaN</td>\n",
              "      <td>$975.00</td>\n",
              "      <td>NaN</td>\n",
              "      <td>NaN</td>\n",
              "      <td>$1,000.00</td>\n",
              "      <td>$300.00</td>\n",
              "      <td>10</td>\n",
              "      <td>$25.00</td>\n",
              "      <td>4</td>\n",
              "      <td>30</td>\n",
              "      <td>5 weeks ago</td>\n",
              "      <td>t</td>\n",
              "      <td>1</td>\n",
              "      <td>6</td>\n",
              "      <td>17</td>\n",
              "      <td>220</td>\n",
              "      <td>2016-01-04</td>\n",
              "      <td>20</td>\n",
              "      <td>2014-07-30</td>\n",
              "      <td>2015-09-03</td>\n",
              "      <td>97.0</td>\n",
              "      <td>10.0</td>\n",
              "      <td>10.0</td>\n",
              "      <td>10.0</td>\n",
              "      <td>10.0</td>\n",
              "      <td>10.0</td>\n",
              "      <td>10.0</td>\n",
              "      <td>f</td>\n",
              "      <td>NaN</td>\n",
              "      <td>WASHINGTON</td>\n",
              "      <td>f</td>\n",
              "      <td>strict</td>\n",
              "      <td>f</td>\n",
              "      <td>f</td>\n",
              "      <td>2</td>\n",
              "      <td>1.15</td>\n",
              "    </tr>\n",
              "    <tr>\n",
              "      <th>3</th>\n",
              "      <td>7421966</td>\n",
              "      <td>https://www.airbnb.com/rooms/7421966</td>\n",
              "      <td>20160104002432</td>\n",
              "      <td>2016-01-04</td>\n",
              "      <td>Queen Anne Chateau</td>\n",
              "      <td>A charming apartment that sits atop Queen Anne...</td>\n",
              "      <td>NaN</td>\n",
              "      <td>A charming apartment that sits atop Queen Anne...</td>\n",
              "      <td>none</td>\n",
              "      <td>NaN</td>\n",
              "      <td>NaN</td>\n",
              "      <td>NaN</td>\n",
              "      <td>NaN</td>\n",
              "      <td>NaN</td>\n",
              "      <td>https://a0.muscache.com/ac/pictures/94146944/6...</td>\n",
              "      <td>NaN</td>\n",
              "      <td>9851441</td>\n",
              "      <td>https://www.airbnb.com/users/show/9851441</td>\n",
              "      <td>Emily</td>\n",
              "      <td>2013-11-06</td>\n",
              "      <td>Seattle, Washington, United States</td>\n",
              "      <td>NaN</td>\n",
              "      <td>NaN</td>\n",
              "      <td>NaN</td>\n",
              "      <td>NaN</td>\n",
              "      <td>f</td>\n",
              "      <td>https://a2.muscache.com/ac/users/9851441/profi...</td>\n",
              "      <td>https://a2.muscache.com/ac/users/9851441/profi...</td>\n",
              "      <td>Queen Anne</td>\n",
              "      <td>1.0</td>\n",
              "      <td>1.0</td>\n",
              "      <td>['email', 'phone', 'facebook', 'reviews', 'jum...</td>\n",
              "      <td>t</td>\n",
              "      <td>t</td>\n",
              "      <td>8th Avenue West, Seattle, WA 98119, United States</td>\n",
              "      <td>Queen Anne</td>\n",
              "      <td>West Queen Anne</td>\n",
              "      <td>Queen Anne</td>\n",
              "      <td>Seattle</td>\n",
              "      <td>WA</td>\n",
              "      <td>98119</td>\n",
              "      <td>Seattle</td>\n",
              "      <td>Seattle, WA</td>\n",
              "      <td>US</td>\n",
              "      <td>United States</td>\n",
              "      <td>47.638473</td>\n",
              "      <td>-122.369279</td>\n",
              "      <td>t</td>\n",
              "      <td>Apartment</td>\n",
              "      <td>Entire home/apt</td>\n",
              "      <td>3</td>\n",
              "      <td>1.0</td>\n",
              "      <td>0.0</td>\n",
              "      <td>2.0</td>\n",
              "      <td>Real Bed</td>\n",
              "      <td>{Internet,\"Wireless Internet\",Kitchen,\"Indoor ...</td>\n",
              "      <td>NaN</td>\n",
              "      <td>$100.00</td>\n",
              "      <td>$650.00</td>\n",
              "      <td>$2,300.00</td>\n",
              "      <td>NaN</td>\n",
              "      <td>NaN</td>\n",
              "      <td>1</td>\n",
              "      <td>$0.00</td>\n",
              "      <td>1</td>\n",
              "      <td>1125</td>\n",
              "      <td>6 months ago</td>\n",
              "      <td>t</td>\n",
              "      <td>0</td>\n",
              "      <td>0</td>\n",
              "      <td>0</td>\n",
              "      <td>143</td>\n",
              "      <td>2016-01-04</td>\n",
              "      <td>0</td>\n",
              "      <td>NaN</td>\n",
              "      <td>NaN</td>\n",
              "      <td>NaN</td>\n",
              "      <td>NaN</td>\n",
              "      <td>NaN</td>\n",
              "      <td>NaN</td>\n",
              "      <td>NaN</td>\n",
              "      <td>NaN</td>\n",
              "      <td>NaN</td>\n",
              "      <td>f</td>\n",
              "      <td>NaN</td>\n",
              "      <td>WASHINGTON</td>\n",
              "      <td>f</td>\n",
              "      <td>flexible</td>\n",
              "      <td>f</td>\n",
              "      <td>f</td>\n",
              "      <td>1</td>\n",
              "      <td>NaN</td>\n",
              "    </tr>\n",
              "    <tr>\n",
              "      <th>4</th>\n",
              "      <td>278830</td>\n",
              "      <td>https://www.airbnb.com/rooms/278830</td>\n",
              "      <td>20160104002432</td>\n",
              "      <td>2016-01-04</td>\n",
              "      <td>Charming craftsman 3 bdm house</td>\n",
              "      <td>Cozy family craftman house in beautiful neighb...</td>\n",
              "      <td>Cozy family craftman house in beautiful neighb...</td>\n",
              "      <td>Cozy family craftman house in beautiful neighb...</td>\n",
              "      <td>none</td>\n",
              "      <td>We are in the beautiful neighborhood of Queen ...</td>\n",
              "      <td>Belltown</td>\n",
              "      <td>The nearest public transit bus (D Line) is 2 b...</td>\n",
              "      <td>NaN</td>\n",
              "      <td>NaN</td>\n",
              "      <td>https://a1.muscache.com/ac/pictures/6120468/b0...</td>\n",
              "      <td>NaN</td>\n",
              "      <td>1452570</td>\n",
              "      <td>https://www.airbnb.com/users/show/1452570</td>\n",
              "      <td>Emily</td>\n",
              "      <td>2011-11-29</td>\n",
              "      <td>Seattle, Washington, United States</td>\n",
              "      <td>Hi, I live in Seattle, Washington but I'm orig...</td>\n",
              "      <td>within an hour</td>\n",
              "      <td>100%</td>\n",
              "      <td>NaN</td>\n",
              "      <td>f</td>\n",
              "      <td>https://a0.muscache.com/ac/users/1452570/profi...</td>\n",
              "      <td>https://a0.muscache.com/ac/users/1452570/profi...</td>\n",
              "      <td>Queen Anne</td>\n",
              "      <td>2.0</td>\n",
              "      <td>2.0</td>\n",
              "      <td>['email', 'phone', 'facebook', 'reviews', 'kba']</td>\n",
              "      <td>t</td>\n",
              "      <td>t</td>\n",
              "      <td>14th Ave W, Seattle, WA 98119, United States</td>\n",
              "      <td>Queen Anne</td>\n",
              "      <td>West Queen Anne</td>\n",
              "      <td>Queen Anne</td>\n",
              "      <td>Seattle</td>\n",
              "      <td>WA</td>\n",
              "      <td>98119</td>\n",
              "      <td>Seattle</td>\n",
              "      <td>Seattle, WA</td>\n",
              "      <td>US</td>\n",
              "      <td>United States</td>\n",
              "      <td>47.632918</td>\n",
              "      <td>-122.372471</td>\n",
              "      <td>t</td>\n",
              "      <td>House</td>\n",
              "      <td>Entire home/apt</td>\n",
              "      <td>6</td>\n",
              "      <td>2.0</td>\n",
              "      <td>3.0</td>\n",
              "      <td>3.0</td>\n",
              "      <td>Real Bed</td>\n",
              "      <td>{TV,\"Cable TV\",Internet,\"Wireless Internet\",Ki...</td>\n",
              "      <td>NaN</td>\n",
              "      <td>$450.00</td>\n",
              "      <td>NaN</td>\n",
              "      <td>NaN</td>\n",
              "      <td>$700.00</td>\n",
              "      <td>$125.00</td>\n",
              "      <td>6</td>\n",
              "      <td>$15.00</td>\n",
              "      <td>1</td>\n",
              "      <td>1125</td>\n",
              "      <td>7 weeks ago</td>\n",
              "      <td>t</td>\n",
              "      <td>30</td>\n",
              "      <td>60</td>\n",
              "      <td>90</td>\n",
              "      <td>365</td>\n",
              "      <td>2016-01-04</td>\n",
              "      <td>38</td>\n",
              "      <td>2012-07-10</td>\n",
              "      <td>2015-10-24</td>\n",
              "      <td>92.0</td>\n",
              "      <td>9.0</td>\n",
              "      <td>9.0</td>\n",
              "      <td>10.0</td>\n",
              "      <td>10.0</td>\n",
              "      <td>9.0</td>\n",
              "      <td>9.0</td>\n",
              "      <td>f</td>\n",
              "      <td>NaN</td>\n",
              "      <td>WASHINGTON</td>\n",
              "      <td>f</td>\n",
              "      <td>strict</td>\n",
              "      <td>f</td>\n",
              "      <td>f</td>\n",
              "      <td>1</td>\n",
              "      <td>0.89</td>\n",
              "    </tr>\n",
              "  </tbody>\n",
              "</table>\n",
              "</div>"
            ],
            "text/plain": [
              "        id                           listing_url       scrape_id last_scraped  \\\n",
              "0   241032   https://www.airbnb.com/rooms/241032  20160104002432   2016-01-04   \n",
              "1   953595   https://www.airbnb.com/rooms/953595  20160104002432   2016-01-04   \n",
              "2  3308979  https://www.airbnb.com/rooms/3308979  20160104002432   2016-01-04   \n",
              "3  7421966  https://www.airbnb.com/rooms/7421966  20160104002432   2016-01-04   \n",
              "4   278830   https://www.airbnb.com/rooms/278830  20160104002432   2016-01-04   \n",
              "\n",
              "                                  name  \\\n",
              "0         Stylish Queen Anne Apartment   \n",
              "1   Bright & Airy Queen Anne Apartment   \n",
              "2  New Modern House-Amazing water view   \n",
              "3                   Queen Anne Chateau   \n",
              "4       Charming craftsman 3 bdm house   \n",
              "\n",
              "                                             summary  \\\n",
              "0                                                NaN   \n",
              "1  Chemically sensitive? We've removed the irrita...   \n",
              "2  New modern house built in 2013.  Spectacular s...   \n",
              "3  A charming apartment that sits atop Queen Anne...   \n",
              "4  Cozy family craftman house in beautiful neighb...   \n",
              "\n",
              "                                               space  \\\n",
              "0  Make your self at home in this charming one-be...   \n",
              "1  Beautiful, hypoallergenic apartment in an extr...   \n",
              "2  Our house is modern, light and fresh with a wa...   \n",
              "3                                                NaN   \n",
              "4  Cozy family craftman house in beautiful neighb...   \n",
              "\n",
              "                                         description experiences_offered  \\\n",
              "0  Make your self at home in this charming one-be...                none   \n",
              "1  Chemically sensitive? We've removed the irrita...                none   \n",
              "2  New modern house built in 2013.  Spectacular s...                none   \n",
              "3  A charming apartment that sits atop Queen Anne...                none   \n",
              "4  Cozy family craftman house in beautiful neighb...                none   \n",
              "\n",
              "                               neighborhood_overview  \\\n",
              "0                                                NaN   \n",
              "1  Queen Anne is a wonderful, truly functional vi...   \n",
              "2  Upper Queen Anne is a charming neighborhood fu...   \n",
              "3                                                NaN   \n",
              "4  We are in the beautiful neighborhood of Queen ...   \n",
              "\n",
              "                                               notes  \\\n",
              "0                                                NaN   \n",
              "1  What's up with the free pillows?  Our home was...   \n",
              "2  Our house is located just 5 short blocks to To...   \n",
              "3                                                NaN   \n",
              "4                                          Belltown    \n",
              "\n",
              "                                             transit  \\\n",
              "0                                                NaN   \n",
              "1  Convenient bus stops are just down the block, ...   \n",
              "2  A bus stop is just 2 blocks away.   Easy bus a...   \n",
              "3                                                NaN   \n",
              "4  The nearest public transit bus (D Line) is 2 b...   \n",
              "\n",
              "                                       thumbnail_url  \\\n",
              "0                                                NaN   \n",
              "1  https://a0.muscache.com/ac/pictures/14409893/f...   \n",
              "2                                                NaN   \n",
              "3                                                NaN   \n",
              "4                                                NaN   \n",
              "\n",
              "                                          medium_url  \\\n",
              "0                                                NaN   \n",
              "1  https://a0.muscache.com/im/pictures/14409893/f...   \n",
              "2                                                NaN   \n",
              "3                                                NaN   \n",
              "4                                                NaN   \n",
              "\n",
              "                                         picture_url  \\\n",
              "0  https://a1.muscache.com/ac/pictures/67560560/c...   \n",
              "1  https://a0.muscache.com/ac/pictures/14409893/f...   \n",
              "2  https://a2.muscache.com/ac/pictures/b4324e0f-a...   \n",
              "3  https://a0.muscache.com/ac/pictures/94146944/6...   \n",
              "4  https://a1.muscache.com/ac/pictures/6120468/b0...   \n",
              "\n",
              "                                      xl_picture_url   host_id  \\\n",
              "0                                                NaN    956883   \n",
              "1  https://a0.muscache.com/ac/pictures/14409893/f...   5177328   \n",
              "2                                                NaN  16708587   \n",
              "3                                                NaN   9851441   \n",
              "4                                                NaN   1452570   \n",
              "\n",
              "                                     host_url host_name  host_since  \\\n",
              "0    https://www.airbnb.com/users/show/956883     Maija  2011-08-11   \n",
              "1   https://www.airbnb.com/users/show/5177328    Andrea  2013-02-21   \n",
              "2  https://www.airbnb.com/users/show/16708587      Jill  2014-06-12   \n",
              "3   https://www.airbnb.com/users/show/9851441     Emily  2013-11-06   \n",
              "4   https://www.airbnb.com/users/show/1452570     Emily  2011-11-29   \n",
              "\n",
              "                        host_location  \\\n",
              "0  Seattle, Washington, United States   \n",
              "1  Seattle, Washington, United States   \n",
              "2  Seattle, Washington, United States   \n",
              "3  Seattle, Washington, United States   \n",
              "4  Seattle, Washington, United States   \n",
              "\n",
              "                                          host_about  host_response_time  \\\n",
              "0  I am an artist, interior designer, and run a s...  within a few hours   \n",
              "1  Living east coast/left coast/overseas.  Time i...      within an hour   \n",
              "2  i love living in Seattle.  i grew up in the mi...  within a few hours   \n",
              "3                                                NaN                 NaN   \n",
              "4  Hi, I live in Seattle, Washington but I'm orig...      within an hour   \n",
              "\n",
              "  host_response_rate host_acceptance_rate host_is_superhost  \\\n",
              "0                96%                 100%                 f   \n",
              "1                98%                 100%                 t   \n",
              "2                67%                 100%                 f   \n",
              "3                NaN                  NaN                 f   \n",
              "4               100%                  NaN                 f   \n",
              "\n",
              "                                  host_thumbnail_url  \\\n",
              "0  https://a0.muscache.com/ac/users/956883/profil...   \n",
              "1  https://a0.muscache.com/ac/users/5177328/profi...   \n",
              "2  https://a1.muscache.com/ac/users/16708587/prof...   \n",
              "3  https://a2.muscache.com/ac/users/9851441/profi...   \n",
              "4  https://a0.muscache.com/ac/users/1452570/profi...   \n",
              "\n",
              "                                    host_picture_url host_neighbourhood  \\\n",
              "0  https://a0.muscache.com/ac/users/956883/profil...         Queen Anne   \n",
              "1  https://a0.muscache.com/ac/users/5177328/profi...         Queen Anne   \n",
              "2  https://a1.muscache.com/ac/users/16708587/prof...         Queen Anne   \n",
              "3  https://a2.muscache.com/ac/users/9851441/profi...         Queen Anne   \n",
              "4  https://a0.muscache.com/ac/users/1452570/profi...         Queen Anne   \n",
              "\n",
              "   host_listings_count  host_total_listings_count  \\\n",
              "0                  3.0                        3.0   \n",
              "1                  6.0                        6.0   \n",
              "2                  2.0                        2.0   \n",
              "3                  1.0                        1.0   \n",
              "4                  2.0                        2.0   \n",
              "\n",
              "                                  host_verifications host_has_profile_pic  \\\n",
              "0               ['email', 'phone', 'reviews', 'kba']                    t   \n",
              "1  ['email', 'phone', 'facebook', 'linkedin', 're...                    t   \n",
              "2   ['email', 'phone', 'google', 'reviews', 'jumio']                    t   \n",
              "3  ['email', 'phone', 'facebook', 'reviews', 'jum...                    t   \n",
              "4   ['email', 'phone', 'facebook', 'reviews', 'kba']                    t   \n",
              "\n",
              "  host_identity_verified                                             street  \\\n",
              "0                      t      Gilman Dr W, Seattle, WA 98119, United States   \n",
              "1                      t  7th Avenue West, Seattle, WA 98119, United States   \n",
              "2                      t  West Lee Street, Seattle, WA 98119, United States   \n",
              "3                      t  8th Avenue West, Seattle, WA 98119, United States   \n",
              "4                      t       14th Ave W, Seattle, WA 98119, United States   \n",
              "\n",
              "  neighbourhood neighbourhood_cleansed neighbourhood_group_cleansed     city  \\\n",
              "0    Queen Anne        West Queen Anne                   Queen Anne  Seattle   \n",
              "1    Queen Anne        West Queen Anne                   Queen Anne  Seattle   \n",
              "2    Queen Anne        West Queen Anne                   Queen Anne  Seattle   \n",
              "3    Queen Anne        West Queen Anne                   Queen Anne  Seattle   \n",
              "4    Queen Anne        West Queen Anne                   Queen Anne  Seattle   \n",
              "\n",
              "  state zipcode   market smart_location country_code        country  \\\n",
              "0    WA   98119  Seattle    Seattle, WA           US  United States   \n",
              "1    WA   98119  Seattle    Seattle, WA           US  United States   \n",
              "2    WA   98119  Seattle    Seattle, WA           US  United States   \n",
              "3    WA   98119  Seattle    Seattle, WA           US  United States   \n",
              "4    WA   98119  Seattle    Seattle, WA           US  United States   \n",
              "\n",
              "    latitude   longitude is_location_exact property_type        room_type  \\\n",
              "0  47.636289 -122.371025                 t     Apartment  Entire home/apt   \n",
              "1  47.639123 -122.365666                 t     Apartment  Entire home/apt   \n",
              "2  47.629724 -122.369483                 t         House  Entire home/apt   \n",
              "3  47.638473 -122.369279                 t     Apartment  Entire home/apt   \n",
              "4  47.632918 -122.372471                 t         House  Entire home/apt   \n",
              "\n",
              "   accommodates  bathrooms  bedrooms  beds  bed_type  \\\n",
              "0             4        1.0       1.0   1.0  Real Bed   \n",
              "1             4        1.0       1.0   1.0  Real Bed   \n",
              "2            11        4.5       5.0   7.0  Real Bed   \n",
              "3             3        1.0       0.0   2.0  Real Bed   \n",
              "4             6        2.0       3.0   3.0  Real Bed   \n",
              "\n",
              "                                           amenities  square_feet    price  \\\n",
              "0  {TV,\"Cable TV\",Internet,\"Wireless Internet\",\"A...          NaN   $85.00   \n",
              "1  {TV,Internet,\"Wireless Internet\",Kitchen,\"Free...          NaN  $150.00   \n",
              "2  {TV,\"Cable TV\",Internet,\"Wireless Internet\",\"A...          NaN  $975.00   \n",
              "3  {Internet,\"Wireless Internet\",Kitchen,\"Indoor ...          NaN  $100.00   \n",
              "4  {TV,\"Cable TV\",Internet,\"Wireless Internet\",Ki...          NaN  $450.00   \n",
              "\n",
              "  weekly_price monthly_price security_deposit cleaning_fee  guests_included  \\\n",
              "0          NaN           NaN              NaN          NaN                2   \n",
              "1    $1,000.00     $3,000.00          $100.00       $40.00                1   \n",
              "2          NaN           NaN        $1,000.00      $300.00               10   \n",
              "3      $650.00     $2,300.00              NaN          NaN                1   \n",
              "4          NaN           NaN          $700.00      $125.00                6   \n",
              "\n",
              "  extra_people  minimum_nights  maximum_nights calendar_updated  \\\n",
              "0        $5.00               1             365      4 weeks ago   \n",
              "1        $0.00               2              90            today   \n",
              "2       $25.00               4              30      5 weeks ago   \n",
              "3        $0.00               1            1125     6 months ago   \n",
              "4       $15.00               1            1125      7 weeks ago   \n",
              "\n",
              "  has_availability  availability_30  availability_60  availability_90  \\\n",
              "0                t               14               41               71   \n",
              "1                t               13               13               16   \n",
              "2                t                1                6               17   \n",
              "3                t                0                0                0   \n",
              "4                t               30               60               90   \n",
              "\n",
              "   availability_365 calendar_last_scraped  number_of_reviews first_review  \\\n",
              "0               346            2016-01-04                207   2011-11-01   \n",
              "1               291            2016-01-04                 43   2013-08-19   \n",
              "2               220            2016-01-04                 20   2014-07-30   \n",
              "3               143            2016-01-04                  0          NaN   \n",
              "4               365            2016-01-04                 38   2012-07-10   \n",
              "\n",
              "  last_review  review_scores_rating  review_scores_accuracy  \\\n",
              "0  2016-01-02                  95.0                    10.0   \n",
              "1  2015-12-29                  96.0                    10.0   \n",
              "2  2015-09-03                  97.0                    10.0   \n",
              "3         NaN                   NaN                     NaN   \n",
              "4  2015-10-24                  92.0                     9.0   \n",
              "\n",
              "   review_scores_cleanliness  review_scores_checkin  \\\n",
              "0                       10.0                   10.0   \n",
              "1                       10.0                   10.0   \n",
              "2                       10.0                   10.0   \n",
              "3                        NaN                    NaN   \n",
              "4                        9.0                   10.0   \n",
              "\n",
              "   review_scores_communication  review_scores_location  review_scores_value  \\\n",
              "0                         10.0                     9.0                 10.0   \n",
              "1                         10.0                    10.0                 10.0   \n",
              "2                         10.0                    10.0                 10.0   \n",
              "3                          NaN                     NaN                  NaN   \n",
              "4                         10.0                     9.0                  9.0   \n",
              "\n",
              "  requires_license  license jurisdiction_names instant_bookable  \\\n",
              "0                f      NaN         WASHINGTON                f   \n",
              "1                f      NaN         WASHINGTON                f   \n",
              "2                f      NaN         WASHINGTON                f   \n",
              "3                f      NaN         WASHINGTON                f   \n",
              "4                f      NaN         WASHINGTON                f   \n",
              "\n",
              "  cancellation_policy require_guest_profile_picture  \\\n",
              "0            moderate                             f   \n",
              "1              strict                             t   \n",
              "2              strict                             f   \n",
              "3            flexible                             f   \n",
              "4              strict                             f   \n",
              "\n",
              "  require_guest_phone_verification  calculated_host_listings_count  \\\n",
              "0                                f                               2   \n",
              "1                                t                               6   \n",
              "2                                f                               2   \n",
              "3                                f                               1   \n",
              "4                                f                               1   \n",
              "\n",
              "   reviews_per_month  \n",
              "0               4.07  \n",
              "1               1.48  \n",
              "2               1.15  \n",
              "3                NaN  \n",
              "4               0.89  "
            ]
          },
          "metadata": {
            "tags": []
          },
          "execution_count": 56
        }
      ]
    },
    {
      "cell_type": "code",
      "metadata": {
        "colab": {
          "base_uri": "https://localhost:8080/",
          "height": 206
        },
        "id": "0c-EyhKdblsM",
        "outputId": "583a6984-8344-46d8-b76d-217523ef5619"
      },
      "source": [
        "df_reviews.head()"
      ],
      "execution_count": 57,
      "outputs": [
        {
          "output_type": "execute_result",
          "data": {
            "text/html": [
              "<div>\n",
              "<style scoped>\n",
              "    .dataframe tbody tr th:only-of-type {\n",
              "        vertical-align: middle;\n",
              "    }\n",
              "\n",
              "    .dataframe tbody tr th {\n",
              "        vertical-align: top;\n",
              "    }\n",
              "\n",
              "    .dataframe thead th {\n",
              "        text-align: right;\n",
              "    }\n",
              "</style>\n",
              "<table border=\"1\" class=\"dataframe\">\n",
              "  <thead>\n",
              "    <tr style=\"text-align: right;\">\n",
              "      <th></th>\n",
              "      <th>listing_id</th>\n",
              "      <th>id</th>\n",
              "      <th>date</th>\n",
              "      <th>reviewer_id</th>\n",
              "      <th>reviewer_name</th>\n",
              "      <th>comments</th>\n",
              "    </tr>\n",
              "  </thead>\n",
              "  <tbody>\n",
              "    <tr>\n",
              "      <th>0</th>\n",
              "      <td>7202016</td>\n",
              "      <td>38917982</td>\n",
              "      <td>2015-07-19</td>\n",
              "      <td>28943674</td>\n",
              "      <td>Bianca</td>\n",
              "      <td>Cute and cozy place. Perfect location to every...</td>\n",
              "    </tr>\n",
              "    <tr>\n",
              "      <th>1</th>\n",
              "      <td>7202016</td>\n",
              "      <td>39087409</td>\n",
              "      <td>2015-07-20</td>\n",
              "      <td>32440555</td>\n",
              "      <td>Frank</td>\n",
              "      <td>Kelly has a great room in a very central locat...</td>\n",
              "    </tr>\n",
              "    <tr>\n",
              "      <th>2</th>\n",
              "      <td>7202016</td>\n",
              "      <td>39820030</td>\n",
              "      <td>2015-07-26</td>\n",
              "      <td>37722850</td>\n",
              "      <td>Ian</td>\n",
              "      <td>Very spacious apartment, and in a great neighb...</td>\n",
              "    </tr>\n",
              "    <tr>\n",
              "      <th>3</th>\n",
              "      <td>7202016</td>\n",
              "      <td>40813543</td>\n",
              "      <td>2015-08-02</td>\n",
              "      <td>33671805</td>\n",
              "      <td>George</td>\n",
              "      <td>Close to Seattle Center and all it has to offe...</td>\n",
              "    </tr>\n",
              "    <tr>\n",
              "      <th>4</th>\n",
              "      <td>7202016</td>\n",
              "      <td>41986501</td>\n",
              "      <td>2015-08-10</td>\n",
              "      <td>34959538</td>\n",
              "      <td>Ming</td>\n",
              "      <td>Kelly was a great host and very accommodating ...</td>\n",
              "    </tr>\n",
              "  </tbody>\n",
              "</table>\n",
              "</div>"
            ],
            "text/plain": [
              "   listing_id        id        date  reviewer_id reviewer_name  \\\n",
              "0     7202016  38917982  2015-07-19     28943674        Bianca   \n",
              "1     7202016  39087409  2015-07-20     32440555         Frank   \n",
              "2     7202016  39820030  2015-07-26     37722850           Ian   \n",
              "3     7202016  40813543  2015-08-02     33671805        George   \n",
              "4     7202016  41986501  2015-08-10     34959538          Ming   \n",
              "\n",
              "                                            comments  \n",
              "0  Cute and cozy place. Perfect location to every...  \n",
              "1  Kelly has a great room in a very central locat...  \n",
              "2  Very spacious apartment, and in a great neighb...  \n",
              "3  Close to Seattle Center and all it has to offe...  \n",
              "4  Kelly was a great host and very accommodating ...  "
            ]
          },
          "metadata": {
            "tags": []
          },
          "execution_count": 57
        }
      ]
    },
    {
      "cell_type": "code",
      "metadata": {
        "colab": {
          "base_uri": "https://localhost:8080/",
          "height": 206
        },
        "id": "PlGaZKJrbpKV",
        "outputId": "0f88317c-dcc8-4a00-dc9e-518a055730f4"
      },
      "source": [
        "df_cal.head()"
      ],
      "execution_count": 58,
      "outputs": [
        {
          "output_type": "execute_result",
          "data": {
            "text/html": [
              "<div>\n",
              "<style scoped>\n",
              "    .dataframe tbody tr th:only-of-type {\n",
              "        vertical-align: middle;\n",
              "    }\n",
              "\n",
              "    .dataframe tbody tr th {\n",
              "        vertical-align: top;\n",
              "    }\n",
              "\n",
              "    .dataframe thead th {\n",
              "        text-align: right;\n",
              "    }\n",
              "</style>\n",
              "<table border=\"1\" class=\"dataframe\">\n",
              "  <thead>\n",
              "    <tr style=\"text-align: right;\">\n",
              "      <th></th>\n",
              "      <th>listing_id</th>\n",
              "      <th>date</th>\n",
              "      <th>available</th>\n",
              "      <th>price</th>\n",
              "    </tr>\n",
              "  </thead>\n",
              "  <tbody>\n",
              "    <tr>\n",
              "      <th>0</th>\n",
              "      <td>241032</td>\n",
              "      <td>2016-01-04</td>\n",
              "      <td>t</td>\n",
              "      <td>$85.00</td>\n",
              "    </tr>\n",
              "    <tr>\n",
              "      <th>1</th>\n",
              "      <td>241032</td>\n",
              "      <td>2016-01-05</td>\n",
              "      <td>t</td>\n",
              "      <td>$85.00</td>\n",
              "    </tr>\n",
              "    <tr>\n",
              "      <th>2</th>\n",
              "      <td>241032</td>\n",
              "      <td>2016-01-06</td>\n",
              "      <td>f</td>\n",
              "      <td>NaN</td>\n",
              "    </tr>\n",
              "    <tr>\n",
              "      <th>3</th>\n",
              "      <td>241032</td>\n",
              "      <td>2016-01-07</td>\n",
              "      <td>f</td>\n",
              "      <td>NaN</td>\n",
              "    </tr>\n",
              "    <tr>\n",
              "      <th>4</th>\n",
              "      <td>241032</td>\n",
              "      <td>2016-01-08</td>\n",
              "      <td>f</td>\n",
              "      <td>NaN</td>\n",
              "    </tr>\n",
              "  </tbody>\n",
              "</table>\n",
              "</div>"
            ],
            "text/plain": [
              "   listing_id        date available   price\n",
              "0      241032  2016-01-04         t  $85.00\n",
              "1      241032  2016-01-05         t  $85.00\n",
              "2      241032  2016-01-06         f     NaN\n",
              "3      241032  2016-01-07         f     NaN\n",
              "4      241032  2016-01-08         f     NaN"
            ]
          },
          "metadata": {
            "tags": []
          },
          "execution_count": 58
        }
      ]
    },
    {
      "cell_type": "code",
      "metadata": {
        "colab": {
          "base_uri": "https://localhost:8080/"
        },
        "id": "4gQAZocBbrQG",
        "outputId": "aa6751da-944e-41be-af73-d0166b4b6932"
      },
      "source": [
        "print(\"listings number of rows and columns: \", df_listings.shape[0], df_listings.shape[1])\n",
        "print(\"reviews number of rows and columns: \", df_reviews.shape[0], df_reviews.shape[1])\n",
        "print(\"calendar number of rows and columns: \", df_cal.shape[0], df_cal.shape[1])"
      ],
      "execution_count": 59,
      "outputs": [
        {
          "output_type": "stream",
          "text": [
            "listings number of rows and columns:  3818 92\n",
            "reviews number of rows and columns:  84849 6\n",
            "calendar number of rows and columns:  1393570 4\n"
          ],
          "name": "stdout"
        }
      ]
    },
    {
      "cell_type": "markdown",
      "metadata": {
        "id": "M1B_qjpzb9m1"
      },
      "source": [
        "We will majorly use the listings dataset, let's understand the dataset first."
      ]
    },
    {
      "cell_type": "code",
      "metadata": {
        "colab": {
          "base_uri": "https://localhost:8080/"
        },
        "id": "8-RTCVf6b6Vv",
        "outputId": "0f9ccb14-d26c-44ff-fbe0-cb5902c655c6"
      },
      "source": [
        "df_listings.columns"
      ],
      "execution_count": 60,
      "outputs": [
        {
          "output_type": "execute_result",
          "data": {
            "text/plain": [
              "Index(['id', 'listing_url', 'scrape_id', 'last_scraped', 'name', 'summary',\n",
              "       'space', 'description', 'experiences_offered', 'neighborhood_overview',\n",
              "       'notes', 'transit', 'thumbnail_url', 'medium_url', 'picture_url',\n",
              "       'xl_picture_url', 'host_id', 'host_url', 'host_name', 'host_since',\n",
              "       'host_location', 'host_about', 'host_response_time',\n",
              "       'host_response_rate', 'host_acceptance_rate', 'host_is_superhost',\n",
              "       'host_thumbnail_url', 'host_picture_url', 'host_neighbourhood',\n",
              "       'host_listings_count', 'host_total_listings_count',\n",
              "       'host_verifications', 'host_has_profile_pic', 'host_identity_verified',\n",
              "       'street', 'neighbourhood', 'neighbourhood_cleansed',\n",
              "       'neighbourhood_group_cleansed', 'city', 'state', 'zipcode', 'market',\n",
              "       'smart_location', 'country_code', 'country', 'latitude', 'longitude',\n",
              "       'is_location_exact', 'property_type', 'room_type', 'accommodates',\n",
              "       'bathrooms', 'bedrooms', 'beds', 'bed_type', 'amenities', 'square_feet',\n",
              "       'price', 'weekly_price', 'monthly_price', 'security_deposit',\n",
              "       'cleaning_fee', 'guests_included', 'extra_people', 'minimum_nights',\n",
              "       'maximum_nights', 'calendar_updated', 'has_availability',\n",
              "       'availability_30', 'availability_60', 'availability_90',\n",
              "       'availability_365', 'calendar_last_scraped', 'number_of_reviews',\n",
              "       'first_review', 'last_review', 'review_scores_rating',\n",
              "       'review_scores_accuracy', 'review_scores_cleanliness',\n",
              "       'review_scores_checkin', 'review_scores_communication',\n",
              "       'review_scores_location', 'review_scores_value', 'requires_license',\n",
              "       'license', 'jurisdiction_names', 'instant_bookable',\n",
              "       'cancellation_policy', 'require_guest_profile_picture',\n",
              "       'require_guest_phone_verification', 'calculated_host_listings_count',\n",
              "       'reviews_per_month'],\n",
              "      dtype='object')"
            ]
          },
          "metadata": {
            "tags": []
          },
          "execution_count": 60
        }
      ]
    },
    {
      "cell_type": "code",
      "metadata": {
        "colab": {
          "base_uri": "https://localhost:8080/"
        },
        "id": "sChe-vw-cAt7",
        "outputId": "85d79317-67b1-441b-8a56-0ae972eff792"
      },
      "source": [
        "df_listings.info()"
      ],
      "execution_count": 61,
      "outputs": [
        {
          "output_type": "stream",
          "text": [
            "<class 'pandas.core.frame.DataFrame'>\n",
            "RangeIndex: 3818 entries, 0 to 3817\n",
            "Data columns (total 92 columns):\n",
            " #   Column                            Non-Null Count  Dtype  \n",
            "---  ------                            --------------  -----  \n",
            " 0   id                                3818 non-null   int64  \n",
            " 1   listing_url                       3818 non-null   object \n",
            " 2   scrape_id                         3818 non-null   int64  \n",
            " 3   last_scraped                      3818 non-null   object \n",
            " 4   name                              3818 non-null   object \n",
            " 5   summary                           3641 non-null   object \n",
            " 6   space                             3249 non-null   object \n",
            " 7   description                       3818 non-null   object \n",
            " 8   experiences_offered               3818 non-null   object \n",
            " 9   neighborhood_overview             2786 non-null   object \n",
            " 10  notes                             2212 non-null   object \n",
            " 11  transit                           2884 non-null   object \n",
            " 12  thumbnail_url                     3498 non-null   object \n",
            " 13  medium_url                        3498 non-null   object \n",
            " 14  picture_url                       3818 non-null   object \n",
            " 15  xl_picture_url                    3498 non-null   object \n",
            " 16  host_id                           3818 non-null   int64  \n",
            " 17  host_url                          3818 non-null   object \n",
            " 18  host_name                         3816 non-null   object \n",
            " 19  host_since                        3816 non-null   object \n",
            " 20  host_location                     3810 non-null   object \n",
            " 21  host_about                        2959 non-null   object \n",
            " 22  host_response_time                3295 non-null   object \n",
            " 23  host_response_rate                3295 non-null   object \n",
            " 24  host_acceptance_rate              3045 non-null   object \n",
            " 25  host_is_superhost                 3816 non-null   object \n",
            " 26  host_thumbnail_url                3816 non-null   object \n",
            " 27  host_picture_url                  3816 non-null   object \n",
            " 28  host_neighbourhood                3518 non-null   object \n",
            " 29  host_listings_count               3816 non-null   float64\n",
            " 30  host_total_listings_count         3816 non-null   float64\n",
            " 31  host_verifications                3818 non-null   object \n",
            " 32  host_has_profile_pic              3816 non-null   object \n",
            " 33  host_identity_verified            3816 non-null   object \n",
            " 34  street                            3818 non-null   object \n",
            " 35  neighbourhood                     3402 non-null   object \n",
            " 36  neighbourhood_cleansed            3818 non-null   object \n",
            " 37  neighbourhood_group_cleansed      3818 non-null   object \n",
            " 38  city                              3818 non-null   object \n",
            " 39  state                             3818 non-null   object \n",
            " 40  zipcode                           3811 non-null   object \n",
            " 41  market                            3818 non-null   object \n",
            " 42  smart_location                    3818 non-null   object \n",
            " 43  country_code                      3818 non-null   object \n",
            " 44  country                           3818 non-null   object \n",
            " 45  latitude                          3818 non-null   float64\n",
            " 46  longitude                         3818 non-null   float64\n",
            " 47  is_location_exact                 3818 non-null   object \n",
            " 48  property_type                     3817 non-null   object \n",
            " 49  room_type                         3818 non-null   object \n",
            " 50  accommodates                      3818 non-null   int64  \n",
            " 51  bathrooms                         3802 non-null   float64\n",
            " 52  bedrooms                          3812 non-null   float64\n",
            " 53  beds                              3817 non-null   float64\n",
            " 54  bed_type                          3818 non-null   object \n",
            " 55  amenities                         3818 non-null   object \n",
            " 56  square_feet                       97 non-null     float64\n",
            " 57  price                             3818 non-null   object \n",
            " 58  weekly_price                      2009 non-null   object \n",
            " 59  monthly_price                     1517 non-null   object \n",
            " 60  security_deposit                  1866 non-null   object \n",
            " 61  cleaning_fee                      2788 non-null   object \n",
            " 62  guests_included                   3818 non-null   int64  \n",
            " 63  extra_people                      3818 non-null   object \n",
            " 64  minimum_nights                    3818 non-null   int64  \n",
            " 65  maximum_nights                    3818 non-null   int64  \n",
            " 66  calendar_updated                  3818 non-null   object \n",
            " 67  has_availability                  3818 non-null   object \n",
            " 68  availability_30                   3818 non-null   int64  \n",
            " 69  availability_60                   3818 non-null   int64  \n",
            " 70  availability_90                   3818 non-null   int64  \n",
            " 71  availability_365                  3818 non-null   int64  \n",
            " 72  calendar_last_scraped             3818 non-null   object \n",
            " 73  number_of_reviews                 3818 non-null   int64  \n",
            " 74  first_review                      3191 non-null   object \n",
            " 75  last_review                       3191 non-null   object \n",
            " 76  review_scores_rating              3171 non-null   float64\n",
            " 77  review_scores_accuracy            3160 non-null   float64\n",
            " 78  review_scores_cleanliness         3165 non-null   float64\n",
            " 79  review_scores_checkin             3160 non-null   float64\n",
            " 80  review_scores_communication       3167 non-null   float64\n",
            " 81  review_scores_location            3163 non-null   float64\n",
            " 82  review_scores_value               3162 non-null   float64\n",
            " 83  requires_license                  3818 non-null   object \n",
            " 84  license                           0 non-null      float64\n",
            " 85  jurisdiction_names                3818 non-null   object \n",
            " 86  instant_bookable                  3818 non-null   object \n",
            " 87  cancellation_policy               3818 non-null   object \n",
            " 88  require_guest_profile_picture     3818 non-null   object \n",
            " 89  require_guest_phone_verification  3818 non-null   object \n",
            " 90  calculated_host_listings_count    3818 non-null   int64  \n",
            " 91  reviews_per_month                 3191 non-null   float64\n",
            "dtypes: float64(17), int64(13), object(62)\n",
            "memory usage: 2.7+ MB\n"
          ],
          "name": "stdout"
        }
      ]
    },
    {
      "cell_type": "markdown",
      "metadata": {
        "id": "qluoaOQZcMtP"
      },
      "source": [
        "Now, let's create a subset, to consider only those columns that we require."
      ]
    },
    {
      "cell_type": "code",
      "metadata": {
        "id": "Ri9eSa4XcJlx"
      },
      "source": [
        "df_index = df_listings[['id','instant_bookable','host_response_rate', 'host_acceptance_rate','host_id','zipcode','room_type','accommodates','bathrooms','bedrooms','beds','reviews_per_month','number_of_reviews','price','property_type']]"
      ],
      "execution_count": 62,
      "outputs": []
    },
    {
      "cell_type": "code",
      "metadata": {
        "colab": {
          "base_uri": "https://localhost:8080/",
          "height": 313
        },
        "id": "G0AjRFMRcYJy",
        "outputId": "1b1d7942-8fee-470c-fe76-cd3518751701"
      },
      "source": [
        "df_index.head()"
      ],
      "execution_count": 63,
      "outputs": [
        {
          "output_type": "execute_result",
          "data": {
            "text/html": [
              "<div>\n",
              "<style scoped>\n",
              "    .dataframe tbody tr th:only-of-type {\n",
              "        vertical-align: middle;\n",
              "    }\n",
              "\n",
              "    .dataframe tbody tr th {\n",
              "        vertical-align: top;\n",
              "    }\n",
              "\n",
              "    .dataframe thead th {\n",
              "        text-align: right;\n",
              "    }\n",
              "</style>\n",
              "<table border=\"1\" class=\"dataframe\">\n",
              "  <thead>\n",
              "    <tr style=\"text-align: right;\">\n",
              "      <th></th>\n",
              "      <th>id</th>\n",
              "      <th>instant_bookable</th>\n",
              "      <th>host_response_rate</th>\n",
              "      <th>host_acceptance_rate</th>\n",
              "      <th>host_id</th>\n",
              "      <th>zipcode</th>\n",
              "      <th>room_type</th>\n",
              "      <th>accommodates</th>\n",
              "      <th>bathrooms</th>\n",
              "      <th>bedrooms</th>\n",
              "      <th>beds</th>\n",
              "      <th>reviews_per_month</th>\n",
              "      <th>number_of_reviews</th>\n",
              "      <th>price</th>\n",
              "      <th>property_type</th>\n",
              "    </tr>\n",
              "  </thead>\n",
              "  <tbody>\n",
              "    <tr>\n",
              "      <th>0</th>\n",
              "      <td>241032</td>\n",
              "      <td>f</td>\n",
              "      <td>96%</td>\n",
              "      <td>100%</td>\n",
              "      <td>956883</td>\n",
              "      <td>98119</td>\n",
              "      <td>Entire home/apt</td>\n",
              "      <td>4</td>\n",
              "      <td>1.0</td>\n",
              "      <td>1.0</td>\n",
              "      <td>1.0</td>\n",
              "      <td>4.07</td>\n",
              "      <td>207</td>\n",
              "      <td>$85.00</td>\n",
              "      <td>Apartment</td>\n",
              "    </tr>\n",
              "    <tr>\n",
              "      <th>1</th>\n",
              "      <td>953595</td>\n",
              "      <td>f</td>\n",
              "      <td>98%</td>\n",
              "      <td>100%</td>\n",
              "      <td>5177328</td>\n",
              "      <td>98119</td>\n",
              "      <td>Entire home/apt</td>\n",
              "      <td>4</td>\n",
              "      <td>1.0</td>\n",
              "      <td>1.0</td>\n",
              "      <td>1.0</td>\n",
              "      <td>1.48</td>\n",
              "      <td>43</td>\n",
              "      <td>$150.00</td>\n",
              "      <td>Apartment</td>\n",
              "    </tr>\n",
              "    <tr>\n",
              "      <th>2</th>\n",
              "      <td>3308979</td>\n",
              "      <td>f</td>\n",
              "      <td>67%</td>\n",
              "      <td>100%</td>\n",
              "      <td>16708587</td>\n",
              "      <td>98119</td>\n",
              "      <td>Entire home/apt</td>\n",
              "      <td>11</td>\n",
              "      <td>4.5</td>\n",
              "      <td>5.0</td>\n",
              "      <td>7.0</td>\n",
              "      <td>1.15</td>\n",
              "      <td>20</td>\n",
              "      <td>$975.00</td>\n",
              "      <td>House</td>\n",
              "    </tr>\n",
              "    <tr>\n",
              "      <th>3</th>\n",
              "      <td>7421966</td>\n",
              "      <td>f</td>\n",
              "      <td>NaN</td>\n",
              "      <td>NaN</td>\n",
              "      <td>9851441</td>\n",
              "      <td>98119</td>\n",
              "      <td>Entire home/apt</td>\n",
              "      <td>3</td>\n",
              "      <td>1.0</td>\n",
              "      <td>0.0</td>\n",
              "      <td>2.0</td>\n",
              "      <td>NaN</td>\n",
              "      <td>0</td>\n",
              "      <td>$100.00</td>\n",
              "      <td>Apartment</td>\n",
              "    </tr>\n",
              "    <tr>\n",
              "      <th>4</th>\n",
              "      <td>278830</td>\n",
              "      <td>f</td>\n",
              "      <td>100%</td>\n",
              "      <td>NaN</td>\n",
              "      <td>1452570</td>\n",
              "      <td>98119</td>\n",
              "      <td>Entire home/apt</td>\n",
              "      <td>6</td>\n",
              "      <td>2.0</td>\n",
              "      <td>3.0</td>\n",
              "      <td>3.0</td>\n",
              "      <td>0.89</td>\n",
              "      <td>38</td>\n",
              "      <td>$450.00</td>\n",
              "      <td>House</td>\n",
              "    </tr>\n",
              "  </tbody>\n",
              "</table>\n",
              "</div>"
            ],
            "text/plain": [
              "        id instant_bookable host_response_rate host_acceptance_rate   host_id  \\\n",
              "0   241032                f                96%                 100%    956883   \n",
              "1   953595                f                98%                 100%   5177328   \n",
              "2  3308979                f                67%                 100%  16708587   \n",
              "3  7421966                f                NaN                  NaN   9851441   \n",
              "4   278830                f               100%                  NaN   1452570   \n",
              "\n",
              "  zipcode        room_type  accommodates  bathrooms  bedrooms  beds  \\\n",
              "0   98119  Entire home/apt             4        1.0       1.0   1.0   \n",
              "1   98119  Entire home/apt             4        1.0       1.0   1.0   \n",
              "2   98119  Entire home/apt            11        4.5       5.0   7.0   \n",
              "3   98119  Entire home/apt             3        1.0       0.0   2.0   \n",
              "4   98119  Entire home/apt             6        2.0       3.0   3.0   \n",
              "\n",
              "   reviews_per_month  number_of_reviews    price property_type  \n",
              "0               4.07                207   $85.00     Apartment  \n",
              "1               1.48                 43  $150.00     Apartment  \n",
              "2               1.15                 20  $975.00         House  \n",
              "3                NaN                  0  $100.00     Apartment  \n",
              "4               0.89                 38  $450.00         House  "
            ]
          },
          "metadata": {
            "tags": []
          },
          "execution_count": 63
        }
      ]
    },
    {
      "cell_type": "markdown",
      "metadata": {
        "id": "OS0nR8jPciQP"
      },
      "source": [
        "From the above, we can see that our dataset is not clean. There are null values and the prices have symbols like '$' in them, that we have to get rid of. So let's do that."
      ]
    },
    {
      "cell_type": "code",
      "metadata": {
        "colab": {
          "base_uri": "https://localhost:8080/"
        },
        "id": "LcVpDD46cgja",
        "outputId": "0b4e8499-e825-487f-9e41-3b8cdbb6d5f0"
      },
      "source": [
        "df_index.isna().sum()"
      ],
      "execution_count": 64,
      "outputs": [
        {
          "output_type": "execute_result",
          "data": {
            "text/plain": [
              "id                        0\n",
              "instant_bookable          0\n",
              "host_response_rate      523\n",
              "host_acceptance_rate    773\n",
              "host_id                   0\n",
              "zipcode                   7\n",
              "room_type                 0\n",
              "accommodates              0\n",
              "bathrooms                16\n",
              "bedrooms                  6\n",
              "beds                      1\n",
              "reviews_per_month       627\n",
              "number_of_reviews         0\n",
              "price                     0\n",
              "property_type             1\n",
              "dtype: int64"
            ]
          },
          "metadata": {
            "tags": []
          },
          "execution_count": 64
        }
      ]
    },
    {
      "cell_type": "code",
      "metadata": {
        "colab": {
          "base_uri": "https://localhost:8080/",
          "height": 399
        },
        "id": "QH2NK3HHc2S2",
        "outputId": "c782513d-f073-460a-8772-305abfa370d1"
      },
      "source": [
        "#Fill the NaN values with zero\n",
        "df_index.fillna(0, inplace=True)\n",
        "df_index.head()"
      ],
      "execution_count": 65,
      "outputs": [
        {
          "output_type": "stream",
          "text": [
            "/usr/local/lib/python3.7/dist-packages/pandas/core/frame.py:4327: SettingWithCopyWarning: \n",
            "A value is trying to be set on a copy of a slice from a DataFrame\n",
            "\n",
            "See the caveats in the documentation: https://pandas.pydata.org/pandas-docs/stable/user_guide/indexing.html#returning-a-view-versus-a-copy\n",
            "  downcast=downcast,\n"
          ],
          "name": "stderr"
        },
        {
          "output_type": "execute_result",
          "data": {
            "text/html": [
              "<div>\n",
              "<style scoped>\n",
              "    .dataframe tbody tr th:only-of-type {\n",
              "        vertical-align: middle;\n",
              "    }\n",
              "\n",
              "    .dataframe tbody tr th {\n",
              "        vertical-align: top;\n",
              "    }\n",
              "\n",
              "    .dataframe thead th {\n",
              "        text-align: right;\n",
              "    }\n",
              "</style>\n",
              "<table border=\"1\" class=\"dataframe\">\n",
              "  <thead>\n",
              "    <tr style=\"text-align: right;\">\n",
              "      <th></th>\n",
              "      <th>id</th>\n",
              "      <th>instant_bookable</th>\n",
              "      <th>host_response_rate</th>\n",
              "      <th>host_acceptance_rate</th>\n",
              "      <th>host_id</th>\n",
              "      <th>zipcode</th>\n",
              "      <th>room_type</th>\n",
              "      <th>accommodates</th>\n",
              "      <th>bathrooms</th>\n",
              "      <th>bedrooms</th>\n",
              "      <th>beds</th>\n",
              "      <th>reviews_per_month</th>\n",
              "      <th>number_of_reviews</th>\n",
              "      <th>price</th>\n",
              "      <th>property_type</th>\n",
              "    </tr>\n",
              "  </thead>\n",
              "  <tbody>\n",
              "    <tr>\n",
              "      <th>0</th>\n",
              "      <td>241032</td>\n",
              "      <td>f</td>\n",
              "      <td>96%</td>\n",
              "      <td>100%</td>\n",
              "      <td>956883</td>\n",
              "      <td>98119</td>\n",
              "      <td>Entire home/apt</td>\n",
              "      <td>4</td>\n",
              "      <td>1.0</td>\n",
              "      <td>1.0</td>\n",
              "      <td>1.0</td>\n",
              "      <td>4.07</td>\n",
              "      <td>207</td>\n",
              "      <td>$85.00</td>\n",
              "      <td>Apartment</td>\n",
              "    </tr>\n",
              "    <tr>\n",
              "      <th>1</th>\n",
              "      <td>953595</td>\n",
              "      <td>f</td>\n",
              "      <td>98%</td>\n",
              "      <td>100%</td>\n",
              "      <td>5177328</td>\n",
              "      <td>98119</td>\n",
              "      <td>Entire home/apt</td>\n",
              "      <td>4</td>\n",
              "      <td>1.0</td>\n",
              "      <td>1.0</td>\n",
              "      <td>1.0</td>\n",
              "      <td>1.48</td>\n",
              "      <td>43</td>\n",
              "      <td>$150.00</td>\n",
              "      <td>Apartment</td>\n",
              "    </tr>\n",
              "    <tr>\n",
              "      <th>2</th>\n",
              "      <td>3308979</td>\n",
              "      <td>f</td>\n",
              "      <td>67%</td>\n",
              "      <td>100%</td>\n",
              "      <td>16708587</td>\n",
              "      <td>98119</td>\n",
              "      <td>Entire home/apt</td>\n",
              "      <td>11</td>\n",
              "      <td>4.5</td>\n",
              "      <td>5.0</td>\n",
              "      <td>7.0</td>\n",
              "      <td>1.15</td>\n",
              "      <td>20</td>\n",
              "      <td>$975.00</td>\n",
              "      <td>House</td>\n",
              "    </tr>\n",
              "    <tr>\n",
              "      <th>3</th>\n",
              "      <td>7421966</td>\n",
              "      <td>f</td>\n",
              "      <td>0</td>\n",
              "      <td>0</td>\n",
              "      <td>9851441</td>\n",
              "      <td>98119</td>\n",
              "      <td>Entire home/apt</td>\n",
              "      <td>3</td>\n",
              "      <td>1.0</td>\n",
              "      <td>0.0</td>\n",
              "      <td>2.0</td>\n",
              "      <td>0.00</td>\n",
              "      <td>0</td>\n",
              "      <td>$100.00</td>\n",
              "      <td>Apartment</td>\n",
              "    </tr>\n",
              "    <tr>\n",
              "      <th>4</th>\n",
              "      <td>278830</td>\n",
              "      <td>f</td>\n",
              "      <td>100%</td>\n",
              "      <td>0</td>\n",
              "      <td>1452570</td>\n",
              "      <td>98119</td>\n",
              "      <td>Entire home/apt</td>\n",
              "      <td>6</td>\n",
              "      <td>2.0</td>\n",
              "      <td>3.0</td>\n",
              "      <td>3.0</td>\n",
              "      <td>0.89</td>\n",
              "      <td>38</td>\n",
              "      <td>$450.00</td>\n",
              "      <td>House</td>\n",
              "    </tr>\n",
              "  </tbody>\n",
              "</table>\n",
              "</div>"
            ],
            "text/plain": [
              "        id instant_bookable host_response_rate host_acceptance_rate   host_id  \\\n",
              "0   241032                f                96%                 100%    956883   \n",
              "1   953595                f                98%                 100%   5177328   \n",
              "2  3308979                f                67%                 100%  16708587   \n",
              "3  7421966                f                  0                    0   9851441   \n",
              "4   278830                f               100%                    0   1452570   \n",
              "\n",
              "  zipcode        room_type  accommodates  bathrooms  bedrooms  beds  \\\n",
              "0   98119  Entire home/apt             4        1.0       1.0   1.0   \n",
              "1   98119  Entire home/apt             4        1.0       1.0   1.0   \n",
              "2   98119  Entire home/apt            11        4.5       5.0   7.0   \n",
              "3   98119  Entire home/apt             3        1.0       0.0   2.0   \n",
              "4   98119  Entire home/apt             6        2.0       3.0   3.0   \n",
              "\n",
              "   reviews_per_month  number_of_reviews    price property_type  \n",
              "0               4.07                207   $85.00     Apartment  \n",
              "1               1.48                 43  $150.00     Apartment  \n",
              "2               1.15                 20  $975.00         House  \n",
              "3               0.00                  0  $100.00     Apartment  \n",
              "4               0.89                 38  $450.00         House  "
            ]
          },
          "metadata": {
            "tags": []
          },
          "execution_count": 65
        }
      ]
    },
    {
      "cell_type": "code",
      "metadata": {
        "colab": {
          "base_uri": "https://localhost:8080/"
        },
        "id": "kiYP8KqCc47m",
        "outputId": "3b90cd28-b94e-4f5b-c756-525853fedf9d"
      },
      "source": [
        "#The price column has str value of $ and commas, we have to remove them.\n",
        "df_index['price'] = df_index['price'].str.replace(\"$\",\"\")\n",
        "df_index['price'] = df_index['price'].str.replace(\",\",\"\")\n",
        "df_index['price'] = df_index['price'].str.replace(\"'\",\"\")\n",
        "df_index['price'] = df_index['price'].astype(float)"
      ],
      "execution_count": 66,
      "outputs": [
        {
          "output_type": "stream",
          "text": [
            "/usr/local/lib/python3.7/dist-packages/ipykernel_launcher.py:2: SettingWithCopyWarning: \n",
            "A value is trying to be set on a copy of a slice from a DataFrame.\n",
            "Try using .loc[row_indexer,col_indexer] = value instead\n",
            "\n",
            "See the caveats in the documentation: https://pandas.pydata.org/pandas-docs/stable/user_guide/indexing.html#returning-a-view-versus-a-copy\n",
            "  \n",
            "/usr/local/lib/python3.7/dist-packages/ipykernel_launcher.py:3: SettingWithCopyWarning: \n",
            "A value is trying to be set on a copy of a slice from a DataFrame.\n",
            "Try using .loc[row_indexer,col_indexer] = value instead\n",
            "\n",
            "See the caveats in the documentation: https://pandas.pydata.org/pandas-docs/stable/user_guide/indexing.html#returning-a-view-versus-a-copy\n",
            "  This is separate from the ipykernel package so we can avoid doing imports until\n",
            "/usr/local/lib/python3.7/dist-packages/ipykernel_launcher.py:4: SettingWithCopyWarning: \n",
            "A value is trying to be set on a copy of a slice from a DataFrame.\n",
            "Try using .loc[row_indexer,col_indexer] = value instead\n",
            "\n",
            "See the caveats in the documentation: https://pandas.pydata.org/pandas-docs/stable/user_guide/indexing.html#returning-a-view-versus-a-copy\n",
            "  after removing the cwd from sys.path.\n",
            "/usr/local/lib/python3.7/dist-packages/ipykernel_launcher.py:5: SettingWithCopyWarning: \n",
            "A value is trying to be set on a copy of a slice from a DataFrame.\n",
            "Try using .loc[row_indexer,col_indexer] = value instead\n",
            "\n",
            "See the caveats in the documentation: https://pandas.pydata.org/pandas-docs/stable/user_guide/indexing.html#returning-a-view-versus-a-copy\n",
            "  \"\"\"\n"
          ],
          "name": "stderr"
        }
      ]
    },
    {
      "cell_type": "code",
      "metadata": {
        "colab": {
          "base_uri": "https://localhost:8080/"
        },
        "id": "dB__mtBvc-pn",
        "outputId": "35334b67-dedc-4a50-c2f3-49a044789684"
      },
      "source": [
        "df_index['price'].head()"
      ],
      "execution_count": 67,
      "outputs": [
        {
          "output_type": "execute_result",
          "data": {
            "text/plain": [
              "0     85.0\n",
              "1    150.0\n",
              "2    975.0\n",
              "3    100.0\n",
              "4    450.0\n",
              "Name: price, dtype: float64"
            ]
          },
          "metadata": {
            "tags": []
          },
          "execution_count": 67
        }
      ]
    },
    {
      "cell_type": "markdown",
      "metadata": {
        "id": "iRrpaxujfBvT"
      },
      "source": [
        "Now that we have a cleaner subset, let's get the correlation between all the column elements. A figure of how strongly they are related to each other.\n"
      ]
    },
    {
      "cell_type": "code",
      "metadata": {
        "colab": {
          "base_uri": "https://localhost:8080/",
          "height": 356
        },
        "id": "h4ZvNkAIdCDs",
        "outputId": "5fe5d891-78fe-43f7-bcad-fc156281a91f"
      },
      "source": [
        "#Let's get the correlation between the values of the dataset:\n",
        "corr = df_index.corr()\n",
        "cmap = sns.cm.rocket_r\n",
        "ax = sns.heatmap(corr, annot=True, center=0, cmap=cmap, linecolor='blue')"
      ],
      "execution_count": 68,
      "outputs": [
        {
          "output_type": "display_data",
          "data": {
            "image/png": "[encoded data removed]",
            "text/plain": [
              "<Figure size 432x288 with 2 Axes>"
            ]
          },
          "metadata": {
            "tags": [],
            "needs_background": "light"
          }
        }
      ]
    },
    {
      "cell_type": "markdown",
      "metadata": {
        "id": "QqgeGJb_fcrD"
      },
      "source": [
        "Conclusions we can draw from the heatmap:\n",
        "*   Number of beds have a strong correlation to the number of accomodates.\n",
        "*   Number of bedrooms have a strong correlation to the number of accomodates.\n",
        "\n",
        "Let's find out what number of beds and bedrooms are preferred by majority of the people.\n",
        "\n"
      ]
    },
    {
      "cell_type": "code",
      "metadata": {
        "colab": {
          "base_uri": "https://localhost:8080/",
          "height": 300
        },
        "id": "O7DZnnSrfZBH",
        "outputId": "c3c159a4-b513-4c61-eb2d-59ed9db8c84d"
      },
      "source": [
        "#Let's see what number of bedrooms are preferred by majority\n",
        "df_bedroom = df_index.groupby('bedrooms').id.count()\n",
        "df_bedroom = df_bedroom.reset_index()\n",
        "df_bedroom = df_bedroom.rename(columns={'id':'listings'})\n",
        "df_bedroom = df_bedroom.sort_values('listings', ascending=False)\n",
        "df_bedroom"
      ],
      "execution_count": 69,
      "outputs": [
        {
          "output_type": "execute_result",
          "data": {
            "text/html": [
              "<div>\n",
              "<style scoped>\n",
              "    .dataframe tbody tr th:only-of-type {\n",
              "        vertical-align: middle;\n",
              "    }\n",
              "\n",
              "    .dataframe tbody tr th {\n",
              "        vertical-align: top;\n",
              "    }\n",
              "\n",
              "    .dataframe thead th {\n",
              "        text-align: right;\n",
              "    }\n",
              "</style>\n",
              "<table border=\"1\" class=\"dataframe\">\n",
              "  <thead>\n",
              "    <tr style=\"text-align: right;\">\n",
              "      <th></th>\n",
              "      <th>bedrooms</th>\n",
              "      <th>listings</th>\n",
              "    </tr>\n",
              "  </thead>\n",
              "  <tbody>\n",
              "    <tr>\n",
              "      <th>1</th>\n",
              "      <td>1.0</td>\n",
              "      <td>2417</td>\n",
              "    </tr>\n",
              "    <tr>\n",
              "      <th>2</th>\n",
              "      <td>2.0</td>\n",
              "      <td>640</td>\n",
              "    </tr>\n",
              "    <tr>\n",
              "      <th>0</th>\n",
              "      <td>0.0</td>\n",
              "      <td>378</td>\n",
              "    </tr>\n",
              "    <tr>\n",
              "      <th>3</th>\n",
              "      <td>3.0</td>\n",
              "      <td>283</td>\n",
              "    </tr>\n",
              "    <tr>\n",
              "      <th>4</th>\n",
              "      <td>4.0</td>\n",
              "      <td>69</td>\n",
              "    </tr>\n",
              "    <tr>\n",
              "      <th>5</th>\n",
              "      <td>5.0</td>\n",
              "      <td>24</td>\n",
              "    </tr>\n",
              "    <tr>\n",
              "      <th>6</th>\n",
              "      <td>6.0</td>\n",
              "      <td>6</td>\n",
              "    </tr>\n",
              "    <tr>\n",
              "      <th>7</th>\n",
              "      <td>7.0</td>\n",
              "      <td>1</td>\n",
              "    </tr>\n",
              "  </tbody>\n",
              "</table>\n",
              "</div>"
            ],
            "text/plain": [
              "   bedrooms  listings\n",
              "1       1.0      2417\n",
              "2       2.0       640\n",
              "0       0.0       378\n",
              "3       3.0       283\n",
              "4       4.0        69\n",
              "5       5.0        24\n",
              "6       6.0         6\n",
              "7       7.0         1"
            ]
          },
          "metadata": {
            "tags": []
          },
          "execution_count": 69
        }
      ]
    },
    {
      "cell_type": "code",
      "metadata": {
        "id": "AY3a3WUzgp8o",
        "colab": {
          "base_uri": "https://localhost:8080/"
        },
        "outputId": "f721dd58-4832-4a7f-dbeb-a5db365becf3"
      },
      "source": [
        "import statistics\n",
        "\n",
        "prices = df_index[df_index['bedrooms'] == 1]\n",
        "prices.head()\n",
        "prices['price'].mean()\n",
        "\n"
      ],
      "execution_count": 70,
      "outputs": [
        {
          "output_type": "execute_result",
          "data": {
            "text/plain": [
              "95.70624741414977"
            ]
          },
          "metadata": {
            "tags": []
          },
          "execution_count": 70
        }
      ]
    },
    {
      "cell_type": "markdown",
      "metadata": {
        "id": "q6TkkrHV6sTQ"
      },
      "source": [
        "We can conclude from the above that, most of the occupants prefer houses with 1 bedroom. But that does not give much information about the number of beds, as there can be more than one bed in a single bedroom.\n",
        "Let's do the same for number of beds."
      ]
    },
    {
      "cell_type": "code",
      "metadata": {
        "colab": {
          "base_uri": "https://localhost:8080/",
          "height": 206
        },
        "id": "ROlPyg2b39az",
        "outputId": "22d371a3-8d9d-4fe2-85fa-b9f803239aeb"
      },
      "source": [
        "df_beds = df_index.groupby('beds').id.count()\n",
        "df_beds = df_beds.reset_index()\n",
        "df_beds = df_beds.rename(columns={'id':'listings'})\n",
        "df_beds = df_beds.sort_values('listings', ascending=False)\n",
        "df_beds.head()"
      ],
      "execution_count": 71,
      "outputs": [
        {
          "output_type": "execute_result",
          "data": {
            "text/html": [
              "<div>\n",
              "<style scoped>\n",
              "    .dataframe tbody tr th:only-of-type {\n",
              "        vertical-align: middle;\n",
              "    }\n",
              "\n",
              "    .dataframe tbody tr th {\n",
              "        vertical-align: top;\n",
              "    }\n",
              "\n",
              "    .dataframe thead th {\n",
              "        text-align: right;\n",
              "    }\n",
              "</style>\n",
              "<table border=\"1\" class=\"dataframe\">\n",
              "  <thead>\n",
              "    <tr style=\"text-align: right;\">\n",
              "      <th></th>\n",
              "      <th>beds</th>\n",
              "      <th>listings</th>\n",
              "    </tr>\n",
              "  </thead>\n",
              "  <tbody>\n",
              "    <tr>\n",
              "      <th>1</th>\n",
              "      <td>1.0</td>\n",
              "      <td>2201</td>\n",
              "    </tr>\n",
              "    <tr>\n",
              "      <th>2</th>\n",
              "      <td>2.0</td>\n",
              "      <td>912</td>\n",
              "    </tr>\n",
              "    <tr>\n",
              "      <th>3</th>\n",
              "      <td>3.0</td>\n",
              "      <td>433</td>\n",
              "    </tr>\n",
              "    <tr>\n",
              "      <th>4</th>\n",
              "      <td>4.0</td>\n",
              "      <td>152</td>\n",
              "    </tr>\n",
              "    <tr>\n",
              "      <th>5</th>\n",
              "      <td>5.0</td>\n",
              "      <td>73</td>\n",
              "    </tr>\n",
              "  </tbody>\n",
              "</table>\n",
              "</div>"
            ],
            "text/plain": [
              "   beds  listings\n",
              "1   1.0      2201\n",
              "2   2.0       912\n",
              "3   3.0       433\n",
              "4   4.0       152\n",
              "5   5.0        73"
            ]
          },
          "metadata": {
            "tags": []
          },
          "execution_count": 71
        }
      ]
    },
    {
      "cell_type": "code",
      "metadata": {
        "colab": {
          "base_uri": "https://localhost:8080/"
        },
        "id": "hUtmhxoF4tTY",
        "outputId": "6d664500-f8f3-4fb9-887c-0e7f117fbd9c"
      },
      "source": [
        "prices = df_index[df_index['beds'] == 1]\n",
        "prices.head()\n",
        "prices['price'].mean()"
      ],
      "execution_count": 72,
      "outputs": [
        {
          "output_type": "execute_result",
          "data": {
            "text/plain": [
              "93.14947751022262"
            ]
          },
          "metadata": {
            "tags": []
          },
          "execution_count": 72
        }
      ]
    },
    {
      "cell_type": "markdown",
      "metadata": {
        "id": "97NB8abE7FEd"
      },
      "source": [
        "Maximum number of occupants prefer a single bed house, for which they have to pay around 93.2$."
      ]
    },
    {
      "cell_type": "markdown",
      "metadata": {
        "id": "kuxSE3Zr7V_R"
      },
      "source": [
        "Now, let's see if higher number of reviews leads to more numbe rof listings in the house. We cannot directly match that with accommodates, as there can be more than one occupant during a sing listing. So let's look at the number os listings."
      ]
    },
    {
      "cell_type": "code",
      "metadata": {
        "colab": {
          "base_uri": "https://localhost:8080/",
          "height": 206
        },
        "id": "g1mT2_yW4yS5",
        "outputId": "584f9dea-6dcc-4ee1-9159-0bd6933071b7"
      },
      "source": [
        "df_nor = df_index.groupby('number_of_reviews').id.count()\n",
        "df_nor = df_nor.reset_index()\n",
        "df_nor = df_nor.rename(columns={'id':'listings'})\n",
        "df_nor = df_nor.sort_values('listings', ascending=False)\n",
        "df_nor.head()"
      ],
      "execution_count": 73,
      "outputs": [
        {
          "output_type": "execute_result",
          "data": {
            "text/html": [
              "<div>\n",
              "<style scoped>\n",
              "    .dataframe tbody tr th:only-of-type {\n",
              "        vertical-align: middle;\n",
              "    }\n",
              "\n",
              "    .dataframe tbody tr th {\n",
              "        vertical-align: top;\n",
              "    }\n",
              "\n",
              "    .dataframe thead th {\n",
              "        text-align: right;\n",
              "    }\n",
              "</style>\n",
              "<table border=\"1\" class=\"dataframe\">\n",
              "  <thead>\n",
              "    <tr style=\"text-align: right;\">\n",
              "      <th></th>\n",
              "      <th>number_of_reviews</th>\n",
              "      <th>listings</th>\n",
              "    </tr>\n",
              "  </thead>\n",
              "  <tbody>\n",
              "    <tr>\n",
              "      <th>0</th>\n",
              "      <td>0</td>\n",
              "      <td>627</td>\n",
              "    </tr>\n",
              "    <tr>\n",
              "      <th>1</th>\n",
              "      <td>1</td>\n",
              "      <td>310</td>\n",
              "    </tr>\n",
              "    <tr>\n",
              "      <th>2</th>\n",
              "      <td>2</td>\n",
              "      <td>224</td>\n",
              "    </tr>\n",
              "    <tr>\n",
              "      <th>4</th>\n",
              "      <td>4</td>\n",
              "      <td>160</td>\n",
              "    </tr>\n",
              "    <tr>\n",
              "      <th>3</th>\n",
              "      <td>3</td>\n",
              "      <td>157</td>\n",
              "    </tr>\n",
              "  </tbody>\n",
              "</table>\n",
              "</div>"
            ],
            "text/plain": [
              "   number_of_reviews  listings\n",
              "0                  0       627\n",
              "1                  1       310\n",
              "2                  2       224\n",
              "4                  4       160\n",
              "3                  3       157"
            ]
          },
          "metadata": {
            "tags": []
          },
          "execution_count": 73
        }
      ]
    },
    {
      "cell_type": "markdown",
      "metadata": {
        "id": "Zzbzzvia71IK"
      },
      "source": [
        "We can conclude that the number of reviews is not a big influence on the listings, but other factors like number of beds and bedrooms have a higher influence.\n",
        "\n",
        "Now, let's find the area where we get the maximum number of listings."
      ]
    },
    {
      "cell_type": "code",
      "metadata": {
        "colab": {
          "base_uri": "https://localhost:8080/",
          "height": 206
        },
        "id": "mkqJKX2I42Y2",
        "outputId": "a603b91d-2c7b-4638-dc0f-05ff1b4568a9"
      },
      "source": [
        "df_loc = df_index.groupby('zipcode').id.count()\n",
        "df_loc = df_loc.reset_index()\n",
        "df_loc = df_loc.rename(columns={'id':'listings'})\n",
        "df_loc = df_loc.sort_values('listings', ascending=False)\n",
        "df_loc.head()"
      ],
      "execution_count": 74,
      "outputs": [
        {
          "output_type": "execute_result",
          "data": {
            "text/html": [
              "<div>\n",
              "<style scoped>\n",
              "    .dataframe tbody tr th:only-of-type {\n",
              "        vertical-align: middle;\n",
              "    }\n",
              "\n",
              "    .dataframe tbody tr th {\n",
              "        vertical-align: top;\n",
              "    }\n",
              "\n",
              "    .dataframe thead th {\n",
              "        text-align: right;\n",
              "    }\n",
              "</style>\n",
              "<table border=\"1\" class=\"dataframe\">\n",
              "  <thead>\n",
              "    <tr style=\"text-align: right;\">\n",
              "      <th></th>\n",
              "      <th>zipcode</th>\n",
              "      <th>listings</th>\n",
              "    </tr>\n",
              "  </thead>\n",
              "  <tbody>\n",
              "    <tr>\n",
              "      <th>17</th>\n",
              "      <td>98122</td>\n",
              "      <td>420</td>\n",
              "    </tr>\n",
              "    <tr>\n",
              "      <th>3</th>\n",
              "      <td>98103</td>\n",
              "      <td>394</td>\n",
              "    </tr>\n",
              "    <tr>\n",
              "      <th>2</th>\n",
              "      <td>98102</td>\n",
              "      <td>339</td>\n",
              "    </tr>\n",
              "    <tr>\n",
              "      <th>5</th>\n",
              "      <td>98105</td>\n",
              "      <td>225</td>\n",
              "    </tr>\n",
              "    <tr>\n",
              "      <th>9</th>\n",
              "      <td>98109</td>\n",
              "      <td>202</td>\n",
              "    </tr>\n",
              "  </tbody>\n",
              "</table>\n",
              "</div>"
            ],
            "text/plain": [
              "   zipcode  listings\n",
              "17   98122       420\n",
              "3    98103       394\n",
              "2    98102       339\n",
              "5    98105       225\n",
              "9    98109       202"
            ]
          },
          "metadata": {
            "tags": []
          },
          "execution_count": 74
        }
      ]
    },
    {
      "cell_type": "code",
      "metadata": {
        "colab": {
          "base_uri": "https://localhost:8080/",
          "height": 501
        },
        "id": "LmApdFOa45SJ",
        "outputId": "dd12c871-3be2-43a2-af13-d79e6b7ede27"
      },
      "source": [
        "import matplotlib\n",
        "from matplotlib import pyplot as plt\n",
        "matplotlib.style.use('ggplot')\n",
        "\n",
        "zcode = df_loc['zipcode']\n",
        "\n",
        "lis = df_loc['listings']\n",
        "\n",
        "df_loc.plot(kind='bar', x='zipcode', y='listings', color='#000080', figsize=(10,7), title='Property listings', legend=False)\n",
        "plt.ylabel('number of listings')\n",
        "plt.xlabel('zipcode')"
      ],
      "execution_count": 75,
      "outputs": [
        {
          "output_type": "execute_result",
          "data": {
            "text/plain": [
              "Text(0.5, 0, 'zipcode')"
            ]
          },
          "metadata": {
            "tags": []
          },
          "execution_count": 75
        },
        {
          "output_type": "display_data",
          "data": {
            "image/png": "[encoded data removed]",
            "text/plain": [
              "<Figure size 720x504 with 1 Axes>"
            ]
          },
          "metadata": {
            "tags": []
          }
        }
      ]
    },
    {
      "cell_type": "markdown",
      "metadata": {
        "id": "diyp7MQP8JfD"
      },
      "source": [
        "Area with zipcode = '98122' has the highest number of listings."
      ]
    },
    {
      "cell_type": "markdown",
      "metadata": {
        "id": "QRLDDp_D8Tr_"
      },
      "source": [
        "Now that we have the information about what accommodates are looking for, let's check out the features that influence the rent of the houses."
      ]
    },
    {
      "cell_type": "code",
      "metadata": {
        "id": "8snKoI2j5aZi"
      },
      "source": [
        "df = df_listings[['host_response_rate', 'host_acceptance_rate','zipcode','room_type','accommodates','bathrooms','bedrooms','beds','price']]"
      ],
      "execution_count": 76,
      "outputs": []
    },
    {
      "cell_type": "code",
      "metadata": {
        "colab": {
          "base_uri": "https://localhost:8080/"
        },
        "id": "kSXPkGyr55HO",
        "outputId": "bf7f2d1e-1181-49f8-d3ab-25eaa4e5d961"
      },
      "source": [
        "df['price'].head()"
      ],
      "execution_count": 77,
      "outputs": [
        {
          "output_type": "execute_result",
          "data": {
            "text/plain": [
              "0     $85.00\n",
              "1    $150.00\n",
              "2    $975.00\n",
              "3    $100.00\n",
              "4    $450.00\n",
              "Name: price, dtype: object"
            ]
          },
          "metadata": {
            "tags": []
          },
          "execution_count": 77
        }
      ]
    },
    {
      "cell_type": "code",
      "metadata": {
        "colab": {
          "base_uri": "https://localhost:8080/"
        },
        "id": "6dQ2yc4i57c0",
        "outputId": "a377a6f5-07f2-4edd-d1bc-a5183f358b87"
      },
      "source": [
        "df['price'] = df['price'].str.replace(\"$\",\"\")\n",
        "df['price'] = df['price'].str.replace(\",\",\"\")\n",
        "df['price'] = df['price'].str.replace(\"'\",\"\")\n",
        "df['price'] = df['price'].astype(float)"
      ],
      "execution_count": 78,
      "outputs": [
        {
          "output_type": "stream",
          "text": [
            "/usr/local/lib/python3.7/dist-packages/ipykernel_launcher.py:1: SettingWithCopyWarning: \n",
            "A value is trying to be set on a copy of a slice from a DataFrame.\n",
            "Try using .loc[row_indexer,col_indexer] = value instead\n",
            "\n",
            "See the caveats in the documentation: https://pandas.pydata.org/pandas-docs/stable/user_guide/indexing.html#returning-a-view-versus-a-copy\n",
            "  \"\"\"Entry point for launching an IPython kernel.\n",
            "/usr/local/lib/python3.7/dist-packages/ipykernel_launcher.py:2: SettingWithCopyWarning: \n",
            "A value is trying to be set on a copy of a slice from a DataFrame.\n",
            "Try using .loc[row_indexer,col_indexer] = value instead\n",
            "\n",
            "See the caveats in the documentation: https://pandas.pydata.org/pandas-docs/stable/user_guide/indexing.html#returning-a-view-versus-a-copy\n",
            "  \n",
            "/usr/local/lib/python3.7/dist-packages/ipykernel_launcher.py:3: SettingWithCopyWarning: \n",
            "A value is trying to be set on a copy of a slice from a DataFrame.\n",
            "Try using .loc[row_indexer,col_indexer] = value instead\n",
            "\n",
            "See the caveats in the documentation: https://pandas.pydata.org/pandas-docs/stable/user_guide/indexing.html#returning-a-view-versus-a-copy\n",
            "  This is separate from the ipykernel package so we can avoid doing imports until\n",
            "/usr/local/lib/python3.7/dist-packages/ipykernel_launcher.py:4: SettingWithCopyWarning: \n",
            "A value is trying to be set on a copy of a slice from a DataFrame.\n",
            "Try using .loc[row_indexer,col_indexer] = value instead\n",
            "\n",
            "See the caveats in the documentation: https://pandas.pydata.org/pandas-docs/stable/user_guide/indexing.html#returning-a-view-versus-a-copy\n",
            "  after removing the cwd from sys.path.\n"
          ],
          "name": "stderr"
        }
      ]
    },
    {
      "cell_type": "code",
      "metadata": {
        "colab": {
          "base_uri": "https://localhost:8080/"
        },
        "id": "gGnQm3RS5-Jd",
        "outputId": "1d92d07c-ce52-4a08-b949-264d2ef8e58f"
      },
      "source": [
        "df['price'].head()"
      ],
      "execution_count": 79,
      "outputs": [
        {
          "output_type": "execute_result",
          "data": {
            "text/plain": [
              "0     85.0\n",
              "1    150.0\n",
              "2    975.0\n",
              "3    100.0\n",
              "4    450.0\n",
              "Name: price, dtype: float64"
            ]
          },
          "metadata": {
            "tags": []
          },
          "execution_count": 79
        }
      ]
    },
    {
      "cell_type": "code",
      "metadata": {
        "colab": {
          "base_uri": "https://localhost:8080/",
          "height": 335
        },
        "id": "gRHNxjq-6AR1",
        "outputId": "f939ecec-e7e1-461d-c410-e051abf98d8f"
      },
      "source": [
        "corr = df.corr()\n",
        "cmap = sns.cm.rocket_r\n",
        "ax = sns.heatmap(corr, annot=True, center=0, cmap=cmap, linecolor='blue')"
      ],
      "execution_count": 80,
      "outputs": [
        {
          "output_type": "display_data",
          "data": {
            "image/png": "[encoded data removed]",
            "text/plain": [
              "<Figure size 432x288 with 2 Axes>"
            ]
          },
          "metadata": {
            "tags": []
          }
        }
      ]
    },
    {
      "cell_type": "markdown",
      "metadata": {
        "id": "k-a4pZFh8i5h"
      },
      "source": [
        "We, can see that number of bedrooms and the number of accommodates have higher correlation (comparatively) to the price of the house."
      ]
    },
    {
      "cell_type": "markdown",
      "metadata": {
        "id": "NKp1JozT8xfY"
      },
      "source": [
        "We are given the location of the house (latitude and longitude). Let's see how the houses are scattered in the region."
      ]
    },
    {
      "cell_type": "code",
      "metadata": {
        "colab": {
          "base_uri": "https://localhost:8080/",
          "height": 282
        },
        "id": "h_oCerB-6Ce8",
        "outputId": "35909431-e809-4a6b-d5da-ae7ec11f293c"
      },
      "source": [
        "df_listings.plot(kind=\"scatter\", x=\"longitude\", y=\"latitude\", alpha=0.4)\n",
        "plt.show()"
      ],
      "execution_count": 81,
      "outputs": [
        {
          "output_type": "display_data",
          "data": {
            "image/png": "[encoded data removed]",
            "text/plain": [
              "<Figure size 432x288 with 1 Axes>"
            ]
          },
          "metadata": {
            "tags": []
          }
        }
      ]
    },
    {
      "cell_type": "markdown",
      "metadata": {
        "id": "aKB4A-TO9f0z"
      },
      "source": [
        "Now, let's try and answer the third question mentioned at the beginning.\n",
        "We have to see what kind of houses people prefer(Entire home/private room/shared room).\n",
        "We will use the subset created earlier (df_index) for this."
      ]
    },
    {
      "cell_type": "code",
      "metadata": {
        "id": "stUiJxLP7U4S",
        "colab": {
          "base_uri": "https://localhost:8080/",
          "height": 143
        },
        "outputId": "c7fd343b-51bc-4348-ad4a-ce00a6ddd9c6"
      },
      "source": [
        "#We know that room_type is categorical, hence we can list the number of listings based on the type of room\n",
        "\n",
        "df_roomtype = df_index.groupby('room_type').id.count()\n",
        "df_roomtype = df_roomtype.reset_index()\n",
        "df_roomtype = df_roomtype.rename(columns={'id':'listings'})\n",
        "df_roomtype"
      ],
      "execution_count": 82,
      "outputs": [
        {
          "output_type": "execute_result",
          "data": {
            "text/html": [
              "<div>\n",
              "<style scoped>\n",
              "    .dataframe tbody tr th:only-of-type {\n",
              "        vertical-align: middle;\n",
              "    }\n",
              "\n",
              "    .dataframe tbody tr th {\n",
              "        vertical-align: top;\n",
              "    }\n",
              "\n",
              "    .dataframe thead th {\n",
              "        text-align: right;\n",
              "    }\n",
              "</style>\n",
              "<table border=\"1\" class=\"dataframe\">\n",
              "  <thead>\n",
              "    <tr style=\"text-align: right;\">\n",
              "      <th></th>\n",
              "      <th>room_type</th>\n",
              "      <th>listings</th>\n",
              "    </tr>\n",
              "  </thead>\n",
              "  <tbody>\n",
              "    <tr>\n",
              "      <th>0</th>\n",
              "      <td>Entire home/apt</td>\n",
              "      <td>2541</td>\n",
              "    </tr>\n",
              "    <tr>\n",
              "      <th>1</th>\n",
              "      <td>Private room</td>\n",
              "      <td>1160</td>\n",
              "    </tr>\n",
              "    <tr>\n",
              "      <th>2</th>\n",
              "      <td>Shared room</td>\n",
              "      <td>117</td>\n",
              "    </tr>\n",
              "  </tbody>\n",
              "</table>\n",
              "</div>"
            ],
            "text/plain": [
              "         room_type  listings\n",
              "0  Entire home/apt      2541\n",
              "1     Private room      1160\n",
              "2      Shared room       117"
            ]
          },
          "metadata": {
            "tags": []
          },
          "execution_count": 82
        }
      ]
    },
    {
      "cell_type": "code",
      "metadata": {
        "colab": {
          "base_uri": "https://localhost:8080/",
          "height": 265
        },
        "id": "wVpgUrMi96IR",
        "outputId": "fce57af2-ee21-432e-b0c2-42d3ece26dbe"
      },
      "source": [
        "import matplotlib.pyplot as plt\n",
        "\n",
        "lis = df_roomtype['listings']\n",
        "\n",
        "my_labels = df_roomtype['room_type']\n",
        "plt.pie(lis,labels=my_labels,autopct='%1.1f%%')\n",
        "plt.title('Room Type')\n",
        "plt.axis('equal')\n",
        "plt.show()"
      ],
      "execution_count": 83,
      "outputs": [
        {
          "output_type": "display_data",
          "data": {
            "image/png": "[encoded data removed]",
            "text/plain": [
              "<Figure size 432x288 with 1 Axes>"
            ]
          },
          "metadata": {
            "tags": []
          }
        }
      ]
    },
    {
      "cell_type": "markdown",
      "metadata": {
        "id": "XvzPr9Fp9-Eq"
      },
      "source": [
        "Maximum number of occupants prefer the entire house and a shared room is preferred by a very small number if people.\n",
        "\n",
        "Observations\n",
        "\n",
        "1.   Entire house:  66.6%\n",
        "2.   Private room: 30.4%\n",
        "3.   Shared room: 3.1%\n",
        "\n",
        "\n",
        "\n",
        "\n"
      ]
    },
    {
      "cell_type": "code",
      "metadata": {
        "colab": {
          "base_uri": "https://localhost:8080/",
          "height": 582
        },
        "id": "r3voYTlP98Qk",
        "outputId": "9b027e4e-61a8-4d5f-ad04-56179369cfae"
      },
      "source": [
        "#Now, doing the same for the type of property\n",
        "df_proptype = df_index.groupby('property_type').id.count()\n",
        "df_proptype = df_proptype.reset_index()\n",
        "df_proptype = df_proptype.rename(columns={'id':'listings'})\n",
        "df_proptype"
      ],
      "execution_count": 84,
      "outputs": [
        {
          "output_type": "execute_result",
          "data": {
            "text/html": [
              "<div>\n",
              "<style scoped>\n",
              "    .dataframe tbody tr th:only-of-type {\n",
              "        vertical-align: middle;\n",
              "    }\n",
              "\n",
              "    .dataframe tbody tr th {\n",
              "        vertical-align: top;\n",
              "    }\n",
              "\n",
              "    .dataframe thead th {\n",
              "        text-align: right;\n",
              "    }\n",
              "</style>\n",
              "<table border=\"1\" class=\"dataframe\">\n",
              "  <thead>\n",
              "    <tr style=\"text-align: right;\">\n",
              "      <th></th>\n",
              "      <th>property_type</th>\n",
              "      <th>listings</th>\n",
              "    </tr>\n",
              "  </thead>\n",
              "  <tbody>\n",
              "    <tr>\n",
              "      <th>0</th>\n",
              "      <td>0</td>\n",
              "      <td>1</td>\n",
              "    </tr>\n",
              "    <tr>\n",
              "      <th>1</th>\n",
              "      <td>Apartment</td>\n",
              "      <td>1708</td>\n",
              "    </tr>\n",
              "    <tr>\n",
              "      <th>2</th>\n",
              "      <td>Bed &amp; Breakfast</td>\n",
              "      <td>37</td>\n",
              "    </tr>\n",
              "    <tr>\n",
              "      <th>3</th>\n",
              "      <td>Boat</td>\n",
              "      <td>8</td>\n",
              "    </tr>\n",
              "    <tr>\n",
              "      <th>4</th>\n",
              "      <td>Bungalow</td>\n",
              "      <td>13</td>\n",
              "    </tr>\n",
              "    <tr>\n",
              "      <th>5</th>\n",
              "      <td>Cabin</td>\n",
              "      <td>21</td>\n",
              "    </tr>\n",
              "    <tr>\n",
              "      <th>6</th>\n",
              "      <td>Camper/RV</td>\n",
              "      <td>13</td>\n",
              "    </tr>\n",
              "    <tr>\n",
              "      <th>7</th>\n",
              "      <td>Chalet</td>\n",
              "      <td>2</td>\n",
              "    </tr>\n",
              "    <tr>\n",
              "      <th>8</th>\n",
              "      <td>Condominium</td>\n",
              "      <td>91</td>\n",
              "    </tr>\n",
              "    <tr>\n",
              "      <th>9</th>\n",
              "      <td>Dorm</td>\n",
              "      <td>2</td>\n",
              "    </tr>\n",
              "    <tr>\n",
              "      <th>10</th>\n",
              "      <td>House</td>\n",
              "      <td>1733</td>\n",
              "    </tr>\n",
              "    <tr>\n",
              "      <th>11</th>\n",
              "      <td>Loft</td>\n",
              "      <td>40</td>\n",
              "    </tr>\n",
              "    <tr>\n",
              "      <th>12</th>\n",
              "      <td>Other</td>\n",
              "      <td>22</td>\n",
              "    </tr>\n",
              "    <tr>\n",
              "      <th>13</th>\n",
              "      <td>Tent</td>\n",
              "      <td>5</td>\n",
              "    </tr>\n",
              "    <tr>\n",
              "      <th>14</th>\n",
              "      <td>Townhouse</td>\n",
              "      <td>118</td>\n",
              "    </tr>\n",
              "    <tr>\n",
              "      <th>15</th>\n",
              "      <td>Treehouse</td>\n",
              "      <td>3</td>\n",
              "    </tr>\n",
              "    <tr>\n",
              "      <th>16</th>\n",
              "      <td>Yurt</td>\n",
              "      <td>1</td>\n",
              "    </tr>\n",
              "  </tbody>\n",
              "</table>\n",
              "</div>"
            ],
            "text/plain": [
              "      property_type  listings\n",
              "0                 0         1\n",
              "1         Apartment      1708\n",
              "2   Bed & Breakfast        37\n",
              "3              Boat         8\n",
              "4          Bungalow        13\n",
              "5             Cabin        21\n",
              "6         Camper/RV        13\n",
              "7            Chalet         2\n",
              "8       Condominium        91\n",
              "9              Dorm         2\n",
              "10            House      1733\n",
              "11             Loft        40\n",
              "12            Other        22\n",
              "13             Tent         5\n",
              "14        Townhouse       118\n",
              "15        Treehouse         3\n",
              "16             Yurt         1"
            ]
          },
          "metadata": {
            "tags": []
          },
          "execution_count": 84
        }
      ]
    },
    {
      "cell_type": "code",
      "metadata": {
        "colab": {
          "base_uri": "https://localhost:8080/",
          "height": 551
        },
        "id": "xZrgm2k8-kYR",
        "outputId": "da3e953b-7b61-42c7-ea06-3347db5529c6"
      },
      "source": [
        "import matplotlib\n",
        "from matplotlib import pyplot as plt\n",
        "matplotlib.style.use('ggplot')\n",
        "\n",
        "name = df_proptype['property_type']\n",
        "\n",
        "lis = df_proptype['listings']\n",
        "\n",
        "df_proptype.plot(kind='bar', x='property_type', y='listings', color='#ff0000', figsize=(10,7), title='Property listings', legend=False)\n",
        "plt.ylabel('number of listings')\n",
        "plt.xlabel('property type')"
      ],
      "execution_count": 85,
      "outputs": [
        {
          "output_type": "execute_result",
          "data": {
            "text/plain": [
              "Text(0.5, 0, 'property type')"
            ]
          },
          "metadata": {
            "tags": []
          },
          "execution_count": 85
        },
        {
          "output_type": "display_data",
          "data": {
            "image/png": "[encoded data removed]",
            "text/plain": [
              "<Figure size 720x504 with 1 Axes>"
            ]
          },
          "metadata": {
            "tags": []
          }
        }
      ]
    },
    {
      "cell_type": "markdown",
      "metadata": {
        "id": "oFtUXoHv-pVE"
      },
      "source": [
        "We can see that almost all of the guests prefer a hiuse/appartment."
      ]
    },
    {
      "cell_type": "markdown",
      "metadata": {
        "id": "tvv27ZUl-6vr"
      },
      "source": [
        "# Observations"
      ]
    },
    {
      "cell_type": "markdown",
      "metadata": {
        "id": "KAA1d5z6_Iqe"
      },
      "source": [
        "We have the following answers to the questions mentioned earlier:"
      ]
    },
    {
      "cell_type": "markdown",
      "metadata": {
        "id": "-SzQVWvw_JsH"
      },
      "source": [
        "\n",
        "\n",
        "1.   What are the features that influence positively on the number of accommodates?\n",
        "\n",
        "We saw from the correlation table that, \n",
        "\n",
        "-Number of beds have a strong correlation to the number of accomodates.\n",
        "\n",
        "-Number of bedrooms have a strong correlation to the number of accomodates.\n",
        "\n"
      ]
    },
    {
      "cell_type": "markdown",
      "metadata": {
        "id": "jXIK5IX1ACS7"
      },
      "source": [
        "2. What features are the guests looking for, so that it can be improved in other houses as well.\n",
        "\n",
        "We saw that most of the accomodates prefer houses with 1 bedroom, and 1 bed. This was true in maximum number of cases, does not mean that we should concentrate on them only!\n",
        "\n",
        "We alse notices that the number of reviews do not matter much.\n",
        "\n",
        "Location is a bif influence!"
      ]
    },
    {
      "cell_type": "markdown",
      "metadata": {
        "id": "WVGrbB9-BVtq"
      },
      "source": [
        "Below is a table of our observations:"
      ]
    },
    {
      "cell_type": "code",
      "metadata": {
        "colab": {
          "base_uri": "https://localhost:8080/",
          "height": 143
        },
        "id": "VoleUljN_GZj",
        "outputId": "ba1a92a1-e113-4051-a3f2-a771ab4f1443"
      },
      "source": [
        "data = [['1 bedrooms', 2417], ['1 bed', 2201], ['Zipcode: 98122 ',420 ]]\n",
        "df = pd.DataFrame(data, columns = ['Feature', 'Number of listings'])\n",
        "df\n",
        "  "
      ],
      "execution_count": 89,
      "outputs": [
        {
          "output_type": "execute_result",
          "data": {
            "text/html": [
              "<div>\n",
              "<style scoped>\n",
              "    .dataframe tbody tr th:only-of-type {\n",
              "        vertical-align: middle;\n",
              "    }\n",
              "\n",
              "    .dataframe tbody tr th {\n",
              "        vertical-align: top;\n",
              "    }\n",
              "\n",
              "    .dataframe thead th {\n",
              "        text-align: right;\n",
              "    }\n",
              "</style>\n",
              "<table border=\"1\" class=\"dataframe\">\n",
              "  <thead>\n",
              "    <tr style=\"text-align: right;\">\n",
              "      <th></th>\n",
              "      <th>Feature</th>\n",
              "      <th>Number of listings</th>\n",
              "    </tr>\n",
              "  </thead>\n",
              "  <tbody>\n",
              "    <tr>\n",
              "      <th>0</th>\n",
              "      <td>1 bedrooms</td>\n",
              "      <td>2417</td>\n",
              "    </tr>\n",
              "    <tr>\n",
              "      <th>1</th>\n",
              "      <td>1 bed</td>\n",
              "      <td>2201</td>\n",
              "    </tr>\n",
              "    <tr>\n",
              "      <th>2</th>\n",
              "      <td>Zipcode: 98122</td>\n",
              "      <td>420</td>\n",
              "    </tr>\n",
              "  </tbody>\n",
              "</table>\n",
              "</div>"
            ],
            "text/plain": [
              "           Feature  Number of listings\n",
              "0       1 bedrooms                2417\n",
              "1            1 bed                2201\n",
              "2  Zipcode: 98122                  420"
            ]
          },
          "metadata": {
            "tags": []
          },
          "execution_count": 89
        }
      ]
    },
    {
      "cell_type": "markdown",
      "metadata": {
        "id": "yEewUdwIBhYX"
      },
      "source": [
        "3. What type of houses that people prefer(Entire home/private room/shared room)\n",
        "\n",
        "We can conclude from the pie chart:\n",
        "1.   Entire house:  66.6%\n",
        "2.   Private room: 30.4%\n",
        "3.   Shared room: 3.1%\n",
        "\n"
      ]
    },
    {
      "cell_type": "markdown",
      "metadata": {
        "id": "qD9nntgaFs4u"
      },
      "source": [
        "**Thank You!!**"
      ]
    }
  ]
}